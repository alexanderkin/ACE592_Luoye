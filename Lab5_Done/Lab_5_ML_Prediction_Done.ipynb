{
 "cells": [
  {
   "cell_type": "markdown",
   "metadata": {
    "collapsed": true
   },
   "source": [
    "## Objective: Learn how to predict apartments' renting price in Champaign, IL"
   ]
  },
  {
   "cell_type": "markdown",
   "metadata": {
    "collapsed": true
   },
   "source": [
    "Remember to shut down your server when you are done by clicking Control Panel -> Shut Down Server\n",
    "\n",
    "### Step 1: Data Preprocessing\n",
    "We need to preprocess data before we start running a machine learning algorithm. The reasons are that some observations are invalid (missing rent number) or some columns do not provide enough information (like image_urls)."
   ]
  },
  {
   "cell_type": "markdown",
   "metadata": {},
   "source": [
    "First of all, we need to load a raw csv file"
   ]
  },
  {
   "cell_type": "code",
   "execution_count": 1,
   "metadata": {},
   "outputs": [
    {
     "name": "stderr",
     "output_type": "stream",
     "text": [
      "Installing package into 'C:/Users/luoyec2/Documents/R/win-library/3.6'\n",
      "(as 'lib' is unspecified)\n",
      "also installing the dependencies 'Rook', 'bibtex', 'gbRd', 'downloader', 'influenceR', 'rgexf', 'visNetwork', 'Rdpack', 'lmtest', 'cyclocomp', 'stringdist', 'xmlparsedata', 'DiagrammeR', 'Ckmeans.1d.dp', 'vcd', 'lintr', 'igraph', 'float'\n",
      "\n"
     ]
    },
    {
     "name": "stdout",
     "output_type": "stream",
     "text": [
      "package 'Rook' successfully unpacked and MD5 sums checked\n",
      "package 'bibtex' successfully unpacked and MD5 sums checked\n",
      "package 'gbRd' successfully unpacked and MD5 sums checked\n",
      "package 'downloader' successfully unpacked and MD5 sums checked\n",
      "package 'influenceR' successfully unpacked and MD5 sums checked\n",
      "package 'rgexf' successfully unpacked and MD5 sums checked\n",
      "package 'visNetwork' successfully unpacked and MD5 sums checked\n",
      "package 'Rdpack' successfully unpacked and MD5 sums checked\n",
      "package 'lmtest' successfully unpacked and MD5 sums checked\n",
      "package 'cyclocomp' successfully unpacked and MD5 sums checked\n",
      "package 'stringdist' successfully unpacked and MD5 sums checked\n",
      "package 'xmlparsedata' successfully unpacked and MD5 sums checked\n",
      "package 'DiagrammeR' successfully unpacked and MD5 sums checked\n",
      "package 'Ckmeans.1d.dp' successfully unpacked and MD5 sums checked\n",
      "package 'vcd' successfully unpacked and MD5 sums checked\n",
      "package 'lintr' successfully unpacked and MD5 sums checked\n",
      "package 'igraph' successfully unpacked and MD5 sums checked\n",
      "package 'float' successfully unpacked and MD5 sums checked\n",
      "package 'xgboost' successfully unpacked and MD5 sums checked\n",
      "\n",
      "The downloaded binary packages are in\n",
      "\tC:\\Users\\luoyec2\\AppData\\Local\\Temp\\RtmpSU7X66\\downloaded_packages\n"
     ]
    },
    {
     "name": "stderr",
     "output_type": "stream",
     "text": [
      "Loading required package: rgdal\n",
      "Loading required package: sp\n",
      "rgdal: version: 1.4-7, (SVN revision 845)\n",
      " Geospatial Data Abstraction Library extensions to R successfully loaded\n",
      " Loaded GDAL runtime: GDAL 2.2.3, released 2017/11/20\n",
      " Path to GDAL shared files: C:/Users/luoyec2/Documents/R/win-library/3.6/rgdal/gdal\n",
      " GDAL binary built with GEOS: TRUE \n",
      " Loaded PROJ.4 runtime: Rel. 4.9.3, 15 August 2016, [PJ_VERSION: 493]\n",
      " Path to PROJ.4 shared files: C:/Users/luoyec2/Documents/R/win-library/3.6/rgdal/proj\n",
      " Linking to sp version: 1.3-2 \n",
      "Loading required package: xgboost\n"
     ]
    },
    {
     "data": {
      "text/html": [
       "<dl class=dl-horizontal>\n",
       "\t<dt>rgdal</dt>\n",
       "\t\t<dd>TRUE</dd>\n",
       "\t<dt>sp</dt>\n",
       "\t\t<dd>TRUE</dd>\n",
       "\t<dt>xgboost</dt>\n",
       "\t\t<dd>TRUE</dd>\n",
       "</dl>\n"
      ],
      "text/latex": [
       "\\begin{description*}\n",
       "\\item[rgdal] TRUE\n",
       "\\item[sp] TRUE\n",
       "\\item[xgboost] TRUE\n",
       "\\end{description*}\n"
      ],
      "text/markdown": [
       "rgdal\n",
       ":   TRUEsp\n",
       ":   TRUExgboost\n",
       ":   TRUE\n",
       "\n"
      ],
      "text/plain": [
       "  rgdal      sp xgboost \n",
       "   TRUE    TRUE    TRUE "
      ]
     },
     "metadata": {},
     "output_type": "display_data"
    }
   ],
   "source": [
    "ipak <- function(pkg){\n",
    "new.pkg <- pkg[!(pkg %in% installed.packages()[, \"Package\"])]\n",
    "if (length(new.pkg)) \n",
    "    install.packages(new.pkg, dependencies = TRUE)\n",
    "sapply(pkg, require, character.only = TRUE)\n",
    "}\n",
    "\n",
    "# usage\n",
    "packages <- c(\"rgdal\", \"sp\", \"xgboost\")\n",
    "ipak(packages)"
   ]
  },
  {
   "cell_type": "code",
   "execution_count": 2,
   "metadata": {},
   "outputs": [],
   "source": [
    "# Load the data from /home/zhang303/Apartments\n",
    "# Here, we read the data crawled from apartments on 2017-06-13 (rents-2017-06-13.csv)\n",
    "# Raw is a dataframe that consists of 305278 observations.\n",
    "raw <- read.csv(\"rents_2017-06-13.csv\")"
   ]
  },
  {
   "cell_type": "markdown",
   "metadata": {},
   "source": [
    "Now we need to find every apartment in Champaign, IL. To do that, we can do some basic queries"
   ]
  },
  {
   "cell_type": "code",
   "execution_count": 3,
   "metadata": {},
   "outputs": [],
   "source": [
    "# Grab all the data that meets the criteria\n",
    "data = raw[raw$state == \"IL\" & raw$city == \"Champaign\",]\n",
    "states = \"IL\""
   ]
  },
  {
   "cell_type": "code",
   "execution_count": 4,
   "metadata": {},
   "outputs": [
    {
     "data": {
      "text/html": [
       "<table>\n",
       "<thead><tr><th></th><th scope=col>address</th><th scope=col>city</th><th scope=col>state</th><th scope=col>zipcode</th><th scope=col>rent</th><th scope=col>beds</th><th scope=col>baths</th><th scope=col>sqft</th><th scope=col>image_urls</th><th scope=col>description</th><th scope=col>...</th><th scope=col>url</th><th scope=col>score</th><th scope=col>source</th><th scope=col>contact</th><th scope=col>email</th><th scope=col>lat</th><th scope=col>lon</th><th scope=col>apt_number</th><th scope=col>last_update</th><th scope=col>Date.Added</th></tr></thead>\n",
       "<tbody>\n",
       "\t<tr><th scope=row>144497</th><td>1010 S 1st St, Champaign, IL 61820, USA                                                                                                                                                                                                                                                             </td><td>Champaign                                                                                                                                                                                                                                                                                           </td><td>IL                                                                                                                                                                                                                                                                                                  </td><td>61820                                                                                                                                                                                                                                                                                               </td><td>$624-$645                                                                                                                                                                                                                                                                                           </td><td>1                                                                                                                                                                                                                                                                                                   </td><td>1                                                                                                                                                                                                                                                                                                   </td><td>-                                                                                                                                                                                                                                                                                                   </td><td>http://www.placeofmine.com/images/no-image.gif                                                                                                                                                                                                                                                      </td><td>Short term lease starting at $624.00 ending on August 5th, 2017. Spacious garden level 1 bedroom/ 1 bath located in the heart of campus. Rental amount includes water, sewer, trash and recycling. Tenant responsible for electric, gas (stove) and internet/cable. Call us to schedule a tour today</td><td>...                                                                                                                                                                                                                                                                                                 </td><td>http://kennedywilson.linkedupradio.com/properties?property_id=14069&amp;#9;&amp;#9;&amp;#9;&amp;#9;&amp;#9;&amp;#9;&amp;#9;&amp;#9;&amp;#9;                                                                                                                                                         </td><td>46.3411                                                                                                                                                                                                                                                                                             </td><td>cu-living.com                                                                                                                                                                                                                                                                                       </td><td>217-384-5555                                                                                                                                                                                                                                                                                        </td><td>-                                                                                                                                                                                                                                                                                                   </td><td>40.10597                                                                                                                                                                                                                                                                                            </td><td>-88.23828                                                                                                                                                                                                                                                                                           </td><td>-                                                                                                                                                                                                                                                                                                   </td><td>2017-03-31 15:42:15                                                                                                                                                                                                                                                                                 </td><td>06-13-2017                                                                                                                                                                                                                                                                                          </td></tr>\n",
       "</tbody>\n",
       "</table>\n"
      ],
      "text/latex": [
       "\\begin{tabular}{r|llllllllllllllllllllll}\n",
       "  & address & city & state & zipcode & rent & beds & baths & sqft & image\\_urls & description & ... & url & score & source & contact & email & lat & lon & apt\\_number & last\\_update & Date.Added\\\\\n",
       "\\hline\n",
       "\t144497 & 1010 S 1st St, Champaign, IL 61820, USA                                                                                                                                                                                                                                                                & Champaign                                                                                                                                                                                                                                                                                              & IL                                                                                                                                                                                                                                                                                                     & 61820                                                                                                                                                                                                                                                                                                  & \\$624-\\$645                                                                                                                                                                                                                                                                                          & 1                                                                                                                                                                                                                                                                                                      & 1                                                                                                                                                                                                                                                                                                      & -                                                                                                                                                                                                                                                                                                      & http://www.placeofmine.com/images/no-image.gif                                                                                                                                                                                                                                                         & Short term lease starting at \\$624.00 ending on August 5th, 2017. Spacious garden level 1 bedroom/ 1 bath located in the heart of campus. Rental amount includes water, sewer, trash and recycling. Tenant responsible for electric, gas (stove) and internet/cable. Call us to schedule a tour today & ...                                                                                                                                                                                                                                                                                                    & http://kennedywilson.linkedupradio.com/properties?property\\_id=14069\\&\\#9;\\&\\#9;\\&\\#9;\\&\\#9;\\&\\#9;\\&\\#9;\\&\\#9;\\&\\#9;\\&\\#9;                                                                                                                                                          & 46.3411                                                                                                                                                                                                                                                                                                & cu-living.com                                                                                                                                                                                                                                                                                          & 217-384-5555                                                                                                                                                                                                                                                                                           & -                                                                                                                                                                                                                                                                                                      & 40.10597                                                                                                                                                                                                                                                                                               & -88.23828                                                                                                                                                                                                                                                                                              & -                                                                                                                                                                                                                                                                                                      & 2017-03-31 15:42:15                                                                                                                                                                                                                                                                                    & 06-13-2017                                                                                                                                                                                                                                                                                            \\\\\n",
       "\\end{tabular}\n"
      ],
      "text/markdown": [
       "\n",
       "| <!--/--> | address | city | state | zipcode | rent | beds | baths | sqft | image_urls | description | ... | url | score | source | contact | email | lat | lon | apt_number | last_update | Date.Added |\n",
       "|---|---|---|---|---|---|---|---|---|---|---|---|---|---|---|---|---|---|---|---|---|---|\n",
       "| 144497 | 1010 S 1st St, Champaign, IL 61820, USA                                                                                                                                                                                                                                                              | Champaign                                                                                                                                                                                                                                                                                            | IL                                                                                                                                                                                                                                                                                                   | 61820                                                                                                                                                                                                                                                                                                | $624-$645                                                                                                                                                                                                                                                                                            | 1                                                                                                                                                                                                                                                                                                    | 1                                                                                                                                                                                                                                                                                                    | -                                                                                                                                                                                                                                                                                                    | http://www.placeofmine.com/images/no-image.gif                                                                                                                                                                                                                                                       | Short term lease starting at $624.00 ending on August 5th, 2017. Spacious garden level 1 bedroom/ 1 bath located in the heart of campus. Rental amount includes water, sewer, trash and recycling. Tenant responsible for electric, gas (stove) and internet/cable. Call us to schedule a tour today | ...                                                                                                                                                                                                                                                                                                  | http://kennedywilson.linkedupradio.com/properties?property_id=14069&#9;&#9;&#9;&#9;&#9;&#9;&#9;&#9;&#9;                                                                                                                                                                                              | 46.3411                                                                                                                                                                                                                                                                                              | cu-living.com                                                                                                                                                                                                                                                                                        | 217-384-5555                                                                                                                                                                                                                                                                                         | -                                                                                                                                                                                                                                                                                                    | 40.10597                                                                                                                                                                                                                                                                                             | -88.23828                                                                                                                                                                                                                                                                                            | -                                                                                                                                                                                                                                                                                                    | 2017-03-31 15:42:15                                                                                                                                                                                                                                                                                  | 06-13-2017                                                                                                                                                                                                                                                                                           |\n",
       "\n"
      ],
      "text/plain": [
       "       address                                 city      state zipcode\n",
       "144497 1010 S 1st St, Champaign, IL 61820, USA Champaign IL    61820  \n",
       "       rent      beds baths sqft image_urls                                    \n",
       "144497 $624-$645 1    1     -    http://www.placeofmine.com/images/no-image.gif\n",
       "       description                                                                                                                                                                                                                                                                                         \n",
       "144497 Short term lease starting at $624.00 ending on August 5th, 2017. Spacious garden level 1 bedroom/ 1 bath located in the heart of campus. Rental amount includes water, sewer, trash and recycling. Tenant responsible for electric, gas (stove) and internet/cable. Call us to schedule a tour today\n",
       "       ...\n",
       "144497 ...\n",
       "       url                                                                                                    \n",
       "144497 http://kennedywilson.linkedupradio.com/properties?property_id=14069&#9;&#9;&#9;&#9;&#9;&#9;&#9;&#9;&#9;\n",
       "       score   source        contact      email lat      lon       apt_number\n",
       "144497 46.3411 cu-living.com 217-384-5555 -     40.10597 -88.23828 -         \n",
       "       last_update         Date.Added\n",
       "144497 2017-03-31 15:42:15 06-13-2017"
      ]
     },
     "metadata": {},
     "output_type": "display_data"
    }
   ],
   "source": [
    "data[4,]"
   ]
  },
  {
   "cell_type": "code",
   "execution_count": 5,
   "metadata": {},
   "outputs": [
    {
     "data": {
      "text/html": [
       "150"
      ],
      "text/latex": [
       "150"
      ],
      "text/markdown": [
       "150"
      ],
      "text/plain": [
       "[1] 150"
      ]
     },
     "metadata": {},
     "output_type": "display_data"
    },
    {
     "data": {
      "text/html": [
       "22"
      ],
      "text/latex": [
       "22"
      ],
      "text/markdown": [
       "22"
      ],
      "text/plain": [
       "[1] 22"
      ]
     },
     "metadata": {},
     "output_type": "display_data"
    }
   ],
   "source": [
    "nrow(data)\n",
    "ncol(data)"
   ]
  },
  {
   "cell_type": "markdown",
   "metadata": {},
   "source": [
    "Champaign should be a dataframe that contains 150 observations with 22 variables. Now we need to integrate the raw data with the census block data "
   ]
  },
  {
   "cell_type": "code",
   "execution_count": 6,
   "metadata": {},
   "outputs": [],
   "source": [
    "# A function that translates a state into a code.\n",
    "# For example, codeForState(IL) = 17\n",
    "codeForState <- function (state_name) {\n",
    "  if (!exists('stateCodeMap')) {\n",
    "    stateCodeMap = read.csv('state_code_map.csv')\n",
    "  }\n",
    "  code = stateCodeMap[which(stateCodeMap$state==state_name),\"code\"]\n",
    "  if (nchar(code) < 2) {\n",
    "    code = paste0(\"0\",code)\n",
    "  }\n",
    "  return(code)\n",
    "}"
   ]
  },
  {
   "cell_type": "code",
   "execution_count": 7,
   "metadata": {},
   "outputs": [
    {
     "data": {
      "text/html": [
       "17"
      ],
      "text/latex": [
       "17"
      ],
      "text/markdown": [
       "17"
      ],
      "text/plain": [
       "[1] 17"
      ]
     },
     "metadata": {},
     "output_type": "display_data"
    }
   ],
   "source": [
    "# example\n",
    "codeForState(\"IL\")"
   ]
  },
  {
   "cell_type": "code",
   "execution_count": 8,
   "metadata": {},
   "outputs": [],
   "source": [
    "# get POP data for Illinois\n",
    "getPOPDataForState <- function (data,state_name) {\n",
    "  # Get layer name & path\n",
    "  layer_name = paste0(\"tl_2016_\",codeForState(state_name),\"_tabblock10\")\n",
    "  shape_object_path = paste0(codeForState(state_name),\"_shp.rds\")\n",
    "  \n",
    "  if (!file.exists(shape_object_path)) {\n",
    "    return(NA)\n",
    "  }\n",
    "  \n",
    "  # Grab just the rows for the state we're processing\n",
    "  state_subset = subset(data,state==state_name)\n",
    "  \n",
    "  # If there are no rows for this state, do nothing\n",
    "  if(dim(state_subset)[1]==0) {\n",
    "    return(NA)\n",
    "  } else {\n",
    "    points_raw = state_subset\n",
    "    points_raw$lat = as.numeric(points_raw$lat)\n",
    "    points_raw$lon = as.numeric(points_raw$lon)\n",
    "      \n",
    "    source(\"PointsOverPolygons.R\",local = TRUE)\n",
    "    if (!exists(\"aug_points\")) {\n",
    "      stop(\"PointsOverPolygons.R failed to create membership data.\")\n",
    "    }\n",
    "  }\n",
    "  return(aug_points)\n",
    "}\n",
    "\n",
    "# usage in the next cell\n",
    "# example output in the 3 cells later"
   ]
  },
  {
   "cell_type": "code",
   "execution_count": 9,
   "metadata": {},
   "outputs": [
    {
     "name": "stdout",
     "output_type": "stream",
     "text": [
      "[1] \"Working on IL...\"\n"
     ]
    },
    {
     "name": "stderr",
     "output_type": "stream",
     "text": [
      "Loading required package: readxl\n",
      "Loading required package: data.table\n",
      "Loading required package: rgeos\n",
      "rgeos version: 0.5-2, (SVN revision 621)\n",
      " GEOS runtime version: 3.6.1-CAPI-1.10.1 \n",
      " Linking to sp version: 1.3-2 \n",
      " Polygon checking: TRUE \n",
      "\n",
      "Loading required package: tools\n"
     ]
    },
    {
     "name": "stdout",
     "output_type": "stream",
     "text": [
      "   user  system elapsed \n",
      "  29.94    1.01   31.09 \n"
     ]
    }
   ],
   "source": [
    "# In a real project we run every state in the U.S., but here we only run Illinois.\n",
    "# Don't worry about the warning messages\n",
    "aug_data_by_state = lapply(\"IL\",function(state_name) {\n",
    "  print(paste0(\"Working on \",state_name,\"...\"))\n",
    "    \n",
    "  if (state_name == \"\") {\n",
    "    return(NA)\n",
    "  }\n",
    "    \n",
    "  aug_data = getPOPDataForState(data,state_name)\n",
    "    \n",
    "  return(aug_data)\n",
    "})"
   ]
  },
  {
   "cell_type": "code",
   "execution_count": 10,
   "metadata": {},
   "outputs": [],
   "source": [
    "# Remove any states that had no rows in them.\n",
    "aug_data_by_state_no_NAs = aug_data_by_state[which(!is.na(aug_data_by_state))]\n",
    "aug_data = Reduce(rbind,aug_data_by_state_no_NAs,aug_data_by_state_no_NAs[[1]][c(),])"
   ]
  },
  {
   "cell_type": "code",
   "execution_count": 11,
   "metadata": {},
   "outputs": [
    {
     "data": {
      "text/html": [
       "<table>\n",
       "<thead><tr><th></th><th scope=col>address</th><th scope=col>city</th><th scope=col>state</th><th scope=col>zipcode</th><th scope=col>rent</th><th scope=col>beds</th><th scope=col>baths</th><th scope=col>sqft</th><th scope=col>image_urls</th><th scope=col>description</th><th scope=col>...</th><th scope=col>MTFCC10</th><th scope=col>UR10</th><th scope=col>UACE10</th><th scope=col>UATYPE</th><th scope=col>FUNCSTAT10</th><th scope=col>ALAND10</th><th scope=col>AWATER10</th><th scope=col>INTPTLAT10</th><th scope=col>INTPTLON10</th><th scope=col>addedID</th></tr></thead>\n",
       "<tbody>\n",
       "\t<tr><th scope=row>144497</th><td>1010 S 1st St, Champaign, IL 61820, USA                                                                                                                                                                                                                                                             </td><td>Champaign                                                                                                                                                                                                                                                                                           </td><td>IL                                                                                                                                                                                                                                                                                                  </td><td>61820                                                                                                                                                                                                                                                                                               </td><td>$624-$645                                                                                                                                                                                                                                                                                           </td><td>1                                                                                                                                                                                                                                                                                                   </td><td>1                                                                                                                                                                                                                                                                                                   </td><td>-                                                                                                                                                                                                                                                                                                   </td><td>http://www.placeofmine.com/images/no-image.gif                                                                                                                                                                                                                                                      </td><td>Short term lease starting at $624.00 ending on August 5th, 2017. Spacious garden level 1 bedroom/ 1 bath located in the heart of campus. Rental amount includes water, sewer, trash and recycling. Tenant responsible for electric, gas (stove) and internet/cable. Call us to schedule a tour today</td><td>...                                                                                                                                                                                                                                                                                                 </td><td>G5040                                                                                                                                                                                                                                                                                               </td><td>U                                                                                                                                                                                                                                                                                                   </td><td>15211                                                                                                                                                                                                                                                                                               </td><td>U                                                                                                                                                                                                                                                                                                   </td><td>S                                                                                                                                                                                                                                                                                                   </td><td>17924                                                                                                                                                                                                                                                                                               </td><td>0                                                                                                                                                                                                                                                                                                   </td><td>+40.1059648                                                                                                                                                                                                                                                                                         </td><td>-088.2378272                                                                                                                                                                                                                                                                                        </td><td>43213                                                                                                                                                                                                                                                                                               </td></tr>\n",
       "</tbody>\n",
       "</table>\n"
      ],
      "text/latex": [
       "\\begin{tabular}{r|llllllllllllllllllllllllllllllllllllll}\n",
       "  & address & city & state & zipcode & rent & beds & baths & sqft & image\\_urls & description & ... & MTFCC10 & UR10 & UACE10 & UATYPE & FUNCSTAT10 & ALAND10 & AWATER10 & INTPTLAT10 & INTPTLON10 & addedID\\\\\n",
       "\\hline\n",
       "\t144497 & 1010 S 1st St, Champaign, IL 61820, USA                                                                                                                                                                                                                                                                & Champaign                                                                                                                                                                                                                                                                                              & IL                                                                                                                                                                                                                                                                                                     & 61820                                                                                                                                                                                                                                                                                                  & \\$624-\\$645                                                                                                                                                                                                                                                                                          & 1                                                                                                                                                                                                                                                                                                      & 1                                                                                                                                                                                                                                                                                                      & -                                                                                                                                                                                                                                                                                                      & http://www.placeofmine.com/images/no-image.gif                                                                                                                                                                                                                                                         & Short term lease starting at \\$624.00 ending on August 5th, 2017. Spacious garden level 1 bedroom/ 1 bath located in the heart of campus. Rental amount includes water, sewer, trash and recycling. Tenant responsible for electric, gas (stove) and internet/cable. Call us to schedule a tour today & ...                                                                                                                                                                                                                                                                                                    & G5040                                                                                                                                                                                                                                                                                                  & U                                                                                                                                                                                                                                                                                                      & 15211                                                                                                                                                                                                                                                                                                  & U                                                                                                                                                                                                                                                                                                      & S                                                                                                                                                                                                                                                                                                      & 17924                                                                                                                                                                                                                                                                                                  & 0                                                                                                                                                                                                                                                                                                      & +40.1059648                                                                                                                                                                                                                                                                                            & -088.2378272                                                                                                                                                                                                                                                                                           & 43213                                                                                                                                                                                                                                                                                                 \\\\\n",
       "\\end{tabular}\n"
      ],
      "text/markdown": [
       "\n",
       "| <!--/--> | address | city | state | zipcode | rent | beds | baths | sqft | image_urls | description | ... | MTFCC10 | UR10 | UACE10 | UATYPE | FUNCSTAT10 | ALAND10 | AWATER10 | INTPTLAT10 | INTPTLON10 | addedID |\n",
       "|---|---|---|---|---|---|---|---|---|---|---|---|---|---|---|---|---|---|---|---|---|---|\n",
       "| 144497 | 1010 S 1st St, Champaign, IL 61820, USA                                                                                                                                                                                                                                                              | Champaign                                                                                                                                                                                                                                                                                            | IL                                                                                                                                                                                                                                                                                                   | 61820                                                                                                                                                                                                                                                                                                | $624-$645                                                                                                                                                                                                                                                                                            | 1                                                                                                                                                                                                                                                                                                    | 1                                                                                                                                                                                                                                                                                                    | -                                                                                                                                                                                                                                                                                                    | http://www.placeofmine.com/images/no-image.gif                                                                                                                                                                                                                                                       | Short term lease starting at $624.00 ending on August 5th, 2017. Spacious garden level 1 bedroom/ 1 bath located in the heart of campus. Rental amount includes water, sewer, trash and recycling. Tenant responsible for electric, gas (stove) and internet/cable. Call us to schedule a tour today | ...                                                                                                                                                                                                                                                                                                  | G5040                                                                                                                                                                                                                                                                                                | U                                                                                                                                                                                                                                                                                                    | 15211                                                                                                                                                                                                                                                                                                | U                                                                                                                                                                                                                                                                                                    | S                                                                                                                                                                                                                                                                                                    | 17924                                                                                                                                                                                                                                                                                                | 0                                                                                                                                                                                                                                                                                                    | +40.1059648                                                                                                                                                                                                                                                                                          | -088.2378272                                                                                                                                                                                                                                                                                         | 43213                                                                                                                                                                                                                                                                                                |\n",
       "\n"
      ],
      "text/plain": [
       "       address                                 city      state zipcode\n",
       "144497 1010 S 1st St, Champaign, IL 61820, USA Champaign IL    61820  \n",
       "       rent      beds baths sqft image_urls                                    \n",
       "144497 $624-$645 1    1     -    http://www.placeofmine.com/images/no-image.gif\n",
       "       description                                                                                                                                                                                                                                                                                         \n",
       "144497 Short term lease starting at $624.00 ending on August 5th, 2017. Spacious garden level 1 bedroom/ 1 bath located in the heart of campus. Rental amount includes water, sewer, trash and recycling. Tenant responsible for electric, gas (stove) and internet/cable. Call us to schedule a tour today\n",
       "       ... MTFCC10 UR10 UACE10 UATYPE FUNCSTAT10 ALAND10 AWATER10 INTPTLAT10 \n",
       "144497 ... G5040   U    15211  U      S          17924   0        +40.1059648\n",
       "       INTPTLON10   addedID\n",
       "144497 -088.2378272 43213  "
      ]
     },
     "metadata": {},
     "output_type": "display_data"
    }
   ],
   "source": [
    "aug_data[4,]"
   ]
  },
  {
   "cell_type": "markdown",
   "metadata": {},
   "source": [
    "After integration, we can remove columns that do not have enough information such as image_urls."
   ]
  },
  {
   "cell_type": "code",
   "execution_count": 12,
   "metadata": {},
   "outputs": [
    {
     "name": "stderr",
     "output_type": "stream",
     "text": [
      "Warning message in cleanChunk(aug_data):\n",
      "\"NAs introduced by coercion\""
     ]
    },
    {
     "name": "stdout",
     "output_type": "stream",
     "text": [
      "[1] \"finished\"\n"
     ]
    }
   ],
   "source": [
    "# a function that removes useless variables and categorizes by square ft\n",
    "cleanChunk = function (chunk_old) {\n",
    "\n",
    "  chunk=data.frame(matrix(nrow=nrow(chunk_old),ncol=0))\n",
    "    \n",
    "  #chunk$id <- chunk_old$csv_id\n",
    "  chunk$Lat_Num <- as.numeric(chunk_old$lat)\n",
    "  chunk$Lon_Num <- as.numeric(chunk_old$lon)\n",
    "  chunk$Sqft_Num <- as.numeric(chunk_old$sqft)\n",
    "  chunk$Score_Num <- as.numeric(chunk_old$score)\n",
    "  chunk_old$rent1 <- sub(\"$\",'',as.character(chunk_old$rent),fixed=TRUE)\n",
    "  chunk$Rent_Num <- as.numeric(sub(\",\",'',as.character(chunk_old$rent1),fixed=TRUE))\n",
    "  chunk$Zip_Fac <- as.factor(chunk_old$zipcode)\n",
    "  chunk$Beds_Num <- as.numeric(chunk_old$beds)\n",
    "  chunk$Baths_Num <- as.numeric(chunk_old$baths)\n",
    "  chunk$Beds_Fac <- as.factor(chunk_old$beds)\n",
    "  chunk$Baths_Fac <- as.factor(chunk_old$baths)\n",
    "  chunk$DateAdded_Str <- as.character(chunk_old$Date.Added)\n",
    "\n",
    "  chunk$State_Fac <- as.factor(chunk_old$STATEFP10)\n",
    "  chunk$Tract_Fac <- as.factor(chunk_old$TRACTCE10)\n",
    "  chunk$Block_Fac <- as.factor(chunk_old$BLOCKCE10)\n",
    "  chunk$Date_Fac <- as.factor(chunk_old$Date.Added)\n",
    "\n",
    "  chunk$Sqft0500 <- as.factor(chunk$Sqft_Num<500)\n",
    "  chunk$Sqft500600 <- as.factor(chunk$Sqft_Num>=500 & chunk$Sqft_Num<600)\n",
    "  chunk$Sqft600700 <- as.factor(chunk$Sqft_Num>=600 & chunk$Sqft_Num<700)\n",
    "  chunk$Sqft700800 <- as.factor(chunk$Sqft_Num>=700 & chunk$Sqft_Num<800)\n",
    "  chunk$Sqft800900 <- as.factor(chunk$Sqft_Num>=800 & chunk$Sqft_Num<900)\n",
    "  chunk$Sqft9001000 <- as.factor(chunk$Sqft_Num>=900 & chunk$Sqft_Num<1000)\n",
    "  chunk$Sqft10001100 <- as.factor(chunk$Sqft_Num>=1000 & chunk$Sqft_Num<1100)\n",
    "  chunk$Sqft11001200 <- as.factor(chunk$Sqft_Num>=1100 & chunk$Sqft_Num<1200)\n",
    "  chunk$Sqft12001300 <- as.factor(chunk$Sqft_Num>=1200 & chunk$Sqft_Num<1300)\n",
    "  chunk$Sqft13001400 <- as.factor(chunk$Sqft_Num>=1300 & chunk$Sqft_Num<1400)\n",
    "  chunk$Sqft14001500 <- as.factor(chunk$Sqft_Num>=1400 & chunk$Sqft_Num<1500)\n",
    "  chunk$Sqft15001600 <- as.factor(chunk$Sqft_Num>=1500 & chunk$Sqft_Num<1600)\n",
    "  chunk$Sqft16001700 <- as.factor(chunk$Sqft_Num>=1600 & chunk$Sqft_Num<1700)\n",
    "  chunk$Sqft17001800 <- as.factor(chunk$Sqft_Num>=1700 & chunk$Sqft_Num<1800)\n",
    "  chunk$Sqft18001900 <- as.factor(chunk$Sqft_Num>=1800 & chunk$Sqft_Num<1900)\n",
    "  chunk$Sqft19002000 <- as.factor(chunk$Sqft_Num>=1900 & chunk$Sqft_Num<2000)\n",
    "  chunk$Sqft2000 <- as.factor(chunk$Sqft_Num>=2000)\n",
    "  \n",
    "  chunk$Sqft20002100 <- as.factor(chunk$Sqft_Num>=2000 & chunk$Sqft_Num<2100)\n",
    "  chunk$Sqft21002200 <- as.factor(chunk$Sqft_Num>=2100 & chunk$Sqft_Num<2200)\n",
    "  chunk$Sqft22002300 <- as.factor(chunk$Sqft_Num>=2200 & chunk$Sqft_Num<2300)\n",
    "  chunk$Sqft23002400 <- as.factor(chunk$Sqft_Num>=2300 & chunk$Sqft_Num<2400)\n",
    "  chunk$Sqft24002500 <- as.factor(chunk$Sqft_Num>=2400 & chunk$Sqft_Num<2500)\n",
    "  chunk$Sqft25002600 <- as.factor(chunk$Sqft_Num>=2500 & chunk$Sqft_Num<2600)\n",
    "  chunk$Sqft26002700 <- as.factor(chunk$Sqft_Num>=2600 & chunk$Sqft_Num<2700)\n",
    "  chunk$Sqft27002800 <- as.factor(chunk$Sqft_Num>=2700 & chunk$Sqft_Num<2800)\n",
    "  chunk$Sqft28002900 <- as.factor(chunk$Sqft_Num>=2800 & chunk$Sqft_Num<2900)\n",
    "  chunk$Sqft29003000 <- as.factor(chunk$Sqft_Num>=2900 & chunk$Sqft_Num<3000)\n",
    "  chunk$Sqft3000 <- as.factor(chunk$Sqft_Num>=3000)\n",
    "  chunk$Sqft2000 <- as.factor(chunk$Sqft_Num>=2000)\n",
    "  chunk$Sqft01000 <- as.factor(chunk$Sqft_Num<1000)\n",
    "  \n",
    "  chunk$Location_GeoJSON = data.frame(matrix(NA,nrow=nrow(chunk_old),ncol=2,dimnames = list(c(),c(\"type\",\"coordinates\"))))\n",
    "  chunk$Location_GeoJSON$coordinates = as.list(data.frame(apply(chunk_old[c(\"lat\",\"lon\")],1,function(f){\n",
    "    return(c(as.numeric(f[\"lon\"]),as.numeric(f[\"lat\"])))\n",
    "  })))\n",
    "    \n",
    "  chunk$Location_GeoJSON$type = \"Point\"\n",
    "  \n",
    "  chunk <- subset(chunk, Rent_Num!=\"NA\")\n",
    "\n",
    "  print(\"finished\")\n",
    "  return(subset(chunk, Rent_Num <= 5035))\n",
    "}\n",
    "\n",
    "clean <- cleanChunk(aug_data)\n",
    "# It's fine if you see the folling warning message\n",
    "# Warning message in cleanChunk(aug_data):\n",
    "# “NAs introduced by coercion”"
   ]
  },
  {
   "cell_type": "markdown",
   "metadata": {},
   "source": [
    "### Step 2: Modeling\n",
    "After processing the data, we split the whole dataset into train/test set so we can run a machine learning algorithm on it."
   ]
  },
  {
   "cell_type": "code",
   "execution_count": 13,
   "metadata": {},
   "outputs": [],
   "source": [
    "## Setting 80% as train and 20% as test\n",
    "sample_size <- floor(0.8 * nrow(clean))\n",
    "\n",
    "## Set the seed to make your partition reproductible\n",
    "set.seed(123)\n",
    "\n",
    "train_ind <- sample(seq_len(nrow(clean)), size = sample_size)"
   ]
  },
  {
   "cell_type": "code",
   "execution_count": 14,
   "metadata": {},
   "outputs": [],
   "source": [
    "train <- clean[train_ind,]\n",
    "test <- clean[-train_ind,]"
   ]
  },
  {
   "cell_type": "code",
   "execution_count": 15,
   "metadata": {},
   "outputs": [
    {
     "name": "stdout",
     "output_type": "stream",
     "text": [
      "     Lat_Num   Lon_Num Sqft_Num Score_Num Rent_Num Zip_Fac Beds_Num Baths_Num\n",
      "47  40.11282 -88.28922     4786  54.79846      635   61821       24         4\n",
      "139 40.11991 -88.24355     6144  50.35445      750   61820       24         1\n",
      "79  40.09902 -88.24699        1  48.44692      850   61820       37         4\n",
      "27  40.14076 -88.26102     1079  48.30692     1200   61822       37         4\n",
      "126 40.11821 -88.27514        1  44.37308      800   61821       37         1\n",
      "    Beds_Fac Baths_Fac DateAdded_Str State_Fac Tract_Fac Block_Fac   Date_Fac\n",
      "47         1         1    06-13-2017        17    001201      5003 06-13-2017\n",
      "139        1         -    06-13-2017        17    011000      5016 06-13-2017\n",
      "79         2         1    06-13-2017        17    000500      4021 06-13-2017\n",
      "27         2         1    06-13-2017        17    000800      1012 06-13-2017\n",
      "126        2         -    06-13-2017        17    001000      1002 06-13-2017\n",
      "    Sqft0500 Sqft500600 Sqft600700 Sqft700800 Sqft800900 Sqft9001000\n",
      "47     FALSE      FALSE      FALSE      FALSE      FALSE       FALSE\n",
      "139    FALSE      FALSE      FALSE      FALSE      FALSE       FALSE\n",
      "79      TRUE      FALSE      FALSE      FALSE      FALSE       FALSE\n",
      "27     FALSE      FALSE      FALSE      FALSE      FALSE       FALSE\n",
      "126     TRUE      FALSE      FALSE      FALSE      FALSE       FALSE\n",
      "    Sqft10001100 Sqft11001200 Sqft12001300 Sqft13001400 Sqft14001500\n",
      "47         FALSE        FALSE        FALSE        FALSE        FALSE\n",
      "139        FALSE        FALSE        FALSE        FALSE        FALSE\n",
      "79         FALSE        FALSE        FALSE        FALSE        FALSE\n",
      "27          TRUE        FALSE        FALSE        FALSE        FALSE\n",
      "126        FALSE        FALSE        FALSE        FALSE        FALSE\n",
      "    Sqft15001600 Sqft16001700 Sqft17001800 Sqft18001900 Sqft19002000 Sqft2000\n",
      "47         FALSE        FALSE        FALSE        FALSE        FALSE     TRUE\n",
      "139        FALSE        FALSE        FALSE        FALSE        FALSE     TRUE\n",
      "79         FALSE        FALSE        FALSE        FALSE        FALSE    FALSE\n",
      "27         FALSE        FALSE        FALSE        FALSE        FALSE    FALSE\n",
      "126        FALSE        FALSE        FALSE        FALSE        FALSE    FALSE\n",
      "    Sqft20002100 Sqft21002200 Sqft22002300 Sqft23002400 Sqft24002500\n",
      "47         FALSE        FALSE        FALSE        FALSE        FALSE\n",
      "139        FALSE        FALSE        FALSE        FALSE        FALSE\n",
      "79         FALSE        FALSE        FALSE        FALSE        FALSE\n",
      "27         FALSE        FALSE        FALSE        FALSE        FALSE\n",
      "126        FALSE        FALSE        FALSE        FALSE        FALSE\n",
      "    Sqft25002600 Sqft26002700 Sqft27002800 Sqft28002900 Sqft29003000 Sqft3000\n",
      "47         FALSE        FALSE        FALSE        FALSE        FALSE     TRUE\n",
      "139        FALSE        FALSE        FALSE        FALSE        FALSE     TRUE\n",
      "79         FALSE        FALSE        FALSE        FALSE        FALSE    FALSE\n",
      "27         FALSE        FALSE        FALSE        FALSE        FALSE    FALSE\n",
      "126        FALSE        FALSE        FALSE        FALSE        FALSE    FALSE\n",
      "    Sqft01000 Location_GeoJSON.type Location_GeoJSON.coordinates\n",
      "47      FALSE                 Point          -88.28922, 40.11282\n",
      "139     FALSE                 Point          -88.24355, 40.11991\n",
      "79       TRUE                 Point          -88.24699, 40.09902\n",
      "27      FALSE                 Point          -88.26102, 40.14076\n",
      "126      TRUE                 Point          -88.27514, 40.11821\n"
     ]
    }
   ],
   "source": [
    "## Print first 5 rows of the train data.\n",
    "print(train[1:5,])"
   ]
  },
  {
   "cell_type": "markdown",
   "metadata": {},
   "source": [
    "We are using XGBoost in this example. XGBoost is an optimized distributed gradient boosting library designed to be highly efficient, flexible and portable. \n",
    "Before we start training our model, first we need to translate categorical variables into numeric values. (because XGBoost doesn't take categorical variables)"
   ]
  },
  {
   "cell_type": "code",
   "execution_count": 16,
   "metadata": {},
   "outputs": [],
   "source": [
    "# Import library\n",
    "library(xgboost)"
   ]
  },
  {
   "cell_type": "code",
   "execution_count": 17,
   "metadata": {},
   "outputs": [],
   "source": [
    "# Get rid of Location_GeoJSON because we don't need them\n",
    "train_no_json = train[,!names(train) %in% c(\"Location_GeoJSON\")]\n",
    "test_no_json = test[,!names(test) %in% c(\"Location_GeoJSON\")]\n",
    "\n",
    "# Change type of DateAdded_Str to Date\n",
    "train_no_json$DateAdded_Str <- as.Date(train_no_json$DateAdded_Str, format = \"%m-%d-%Y\")\n",
    "test_no_json$DateAdded_Str <- as.Date(test_no_json$DateAdded_Str, format = \"%m-%d-%Y\")\n",
    "\n",
    "# From columns 14 to 42, if the value is true then change it to 1, otherwise 0\n",
    "train_no_json[, 14:42] <- as.integer(train_no_json[, 14:42] == \"TRUE\")\n",
    "test_no_json[, 14:42] <- as.integer(test_no_json[, 14:42] == \"TRUE\")\n",
    "\n",
    "# Store the rent we are going to predict and delete it from the train data set\n",
    "output_vector = train_no_json[,\"Rent_Num\"]\n",
    "train_no_json = train_no_json[,!names(train_no_json) %in% c(\"Rent_Num\")]\n",
    "\n",
    "# Store the rent we are going to predict and delete it from the test data set\n",
    "true_vector = test_no_json[, \"Rent_Num\"]\n",
    "test_no_json = test_no_json[,!names(test_no_json) %in% c(\"Rent_Num\")]"
   ]
  },
  {
   "cell_type": "code",
   "execution_count": 18,
   "metadata": {},
   "outputs": [],
   "source": [
    "# Change to matrix because XGBoost takes matrices\n",
    "train_numeric <- data.matrix(train_no_json)\n",
    "test_numeric <- data.matrix(test_no_json)\n",
    "\n",
    "dtrain <- xgb.DMatrix(data = train_numeric, label = output_vector)\n",
    "dtest <- xgb.DMatrix(data = test_numeric, label = true_vector)\n",
    "\n",
    "# We can see the rmse of train and test via using watchlist parameter \n",
    "watchlist <- list(train = dtrain, test = dtest)"
   ]
  },
  {
   "cell_type": "markdown",
   "metadata": {},
   "source": [
    "Now we only need to put correct parameters into the model and train it. \n",
    "From the output you can see the rmse decrease after each round of training"
   ]
  },
  {
   "cell_type": "code",
   "execution_count": 19,
   "metadata": {},
   "outputs": [
    {
     "name": "stdout",
     "output_type": "stream",
     "text": [
      "[1]\ttrain-rmse:819.406555\ttest-rmse:732.887085 \n",
      "[11]\ttrain-rmse:388.497467\ttest-rmse:303.981964 \n",
      "[21]\ttrain-rmse:225.116882\ttest-rmse:161.716156 \n",
      "[31]\ttrain-rmse:154.023102\ttest-rmse:171.144623 \n",
      "[41]\ttrain-rmse:108.571022\ttest-rmse:187.012894 \n",
      "[50]\ttrain-rmse:82.098900\ttest-rmse:187.294312 \n"
     ]
    }
   ],
   "source": [
    "# data: training data\n",
    "# max.depth: maximum depth of the tree\n",
    "# eta: step size\n",
    "# gamma: minimum loss reduction\n",
    "# subsample: subsample ratio of the training instance\n",
    "# nround: number of rounds\n",
    "# watchlist: watchlist\n",
    "# objective: regression or classification\n",
    "model <- xgb.train(data = dtrain,\n",
    "                   max.depth = 300, \n",
    "                   eta = 0.1, \n",
    "                   gamma = 0.01,\n",
    "                   subsample = 0.5,\n",
    "                   nround = 50,\n",
    "                   watchlist = watchlist, \n",
    "                   print_every_n = 10,\n",
    "                   objective = \"reg:linear\")"
   ]
  },
  {
   "cell_type": "markdown",
   "metadata": {},
   "source": [
    "You can play around with the parameters. The list of all available parameters are in here: https://xgboost.readthedocs.io/en/latest/parameter.html"
   ]
  },
  {
   "cell_type": "code",
   "execution_count": 20,
   "metadata": {},
   "outputs": [
    {
     "name": "stdout",
     "output_type": "stream",
     "text": [
      "         Feature         Gain        Cover   Frequency\n",
      " 1:      Lon_Num 2.309852e-01 0.2600499376 0.198863636\n",
      " 2:      Lat_Num 1.891598e-01 0.1972534332 0.326704545\n",
      " 3:     Beds_Num 1.575961e-01 0.1172284644 0.071022727\n",
      " 4:    Baths_Num 1.517559e-01 0.0785268414 0.055397727\n",
      " 5:    Score_Num 1.412040e-01 0.1515605493 0.174715909\n",
      " 6:     Sqft_Num 5.739463e-02 0.1014981273 0.110795455\n",
      " 7:      Zip_Fac 3.812784e-02 0.0411985019 0.021306818\n",
      " 8:    Tract_Fac 3.261998e-02 0.0464419476 0.035511364\n",
      " 9:   Sqft600700 6.150607e-04 0.0024968789 0.001420455\n",
      "10: Sqft11001200 3.393751e-04 0.0018726592 0.001420455\n",
      "11: Sqft10001100 1.915810e-04 0.0011235955 0.001420455\n",
      "12:  Sqft9001000 1.052272e-05 0.0007490637 0.001420455\n"
     ]
    }
   ],
   "source": [
    "# xgb.importance is a function that calculates the importance of each variable\n",
    "importance_matrix <- xgb.importance(feature_names = colnames(train_numeric), model = model)\n",
    "print(importance_matrix)"
   ]
  },
  {
   "cell_type": "code",
   "execution_count": 21,
   "metadata": {},
   "outputs": [],
   "source": [
    "# Now we can start predicting the testing set and visualize the result.\n",
    "model$pred <- predict(model, test_numeric)\n",
    "test$res <- test$Rent_Num - model$pred"
   ]
  },
  {
   "cell_type": "code",
   "execution_count": 22,
   "metadata": {},
   "outputs": [
    {
     "name": "stderr",
     "output_type": "stream",
     "text": [
      "`geom_smooth()` using method = 'loess' and formula 'y ~ x'\n"
     ]
    },
    {
     "data": {
      "image/png": "[encoded data removed]",
      "text/plain": [
       "plot without title"
      ]
     },
     "metadata": {},
     "output_type": "display_data"
    }
   ],
   "source": [
    "# visualize\n",
    "library(ggplot2)\n",
    "name <- \"xgboost\"\n",
    "ggplot() + ggtitle(paste(name,\".png\",sep=\"\")) +\n",
    "      labs(x=\"Rent\", y=\"Residuals\") +\n",
    "      geom_point(aes(test$Rent_Num, test$res),\n",
    "                 colour='blue', fill = \"blue\") +\n",
    "      geom_smooth(aes(test$Rent_Num, test$res), se=TRUE, fullrange=FALSE,\n",
    "                  colour='firebrick1', fill = \"firebrick1\")"
   ]
  },
  {
   "cell_type": "markdown",
   "metadata": {
    "collapsed": true
   },
   "source": [
    "## Question:\n",
    "Try to tune the model's parameters. If you increase the eta or the maximum depth, what will happen? Can you explain your reasoning? Are there other ways to improve the model's performance?"
   ]
  },
  {
   "cell_type": "markdown",
   "metadata": {},
   "source": [
    "# Increasing the eta"
   ]
  },
  {
   "cell_type": "code",
   "execution_count": 23,
   "metadata": {},
   "outputs": [
    {
     "name": "stdout",
     "output_type": "stream",
     "text": [
      "[1]\ttrain-rmse:368.533356\ttest-rmse:251.446533 \n",
      "[11]\ttrain-rmse:84.446663\ttest-rmse:363.330688 \n",
      "[21]\ttrain-rmse:22.851879\ttest-rmse:344.695404 \n",
      "[31]\ttrain-rmse:14.849818\ttest-rmse:353.812195 \n",
      "[41]\ttrain-rmse:4.423390\ttest-rmse:342.666687 \n",
      "[50]\ttrain-rmse:0.937652\ttest-rmse:342.214722 \n",
      "         Feature         Gain       Cover    Frequency\n",
      " 1:      Lon_Num 2.287399e-01 0.265394145 0.1968962173\n",
      " 2:    Baths_Num 2.105356e-01 0.041112233 0.0349175558\n",
      " 3:      Lat_Num 1.780215e-01 0.262549326 0.3753637245\n",
      " 4:    Score_Num 1.571653e-01 0.171331559 0.1852570320\n",
      " 5:     Beds_Num 9.087114e-02 0.057171699 0.0475266731\n",
      " 6:    Tract_Fac 7.211212e-02 0.071487565 0.0407371484\n",
      " 7:     Sqft_Num 2.937544e-02 0.089107094 0.0902036857\n",
      " 8:      Zip_Fac 1.200598e-02 0.012021657 0.0116391853\n",
      " 9: Sqft18001900 1.012365e-02 0.009452143 0.0029097963\n",
      "10:   Sqft600700 9.700287e-03 0.008717996 0.0038797284\n",
      "11: Sqft10001100 1.235778e-03 0.003946040 0.0067895247\n",
      "12: Sqft11001200 1.116258e-04 0.006240250 0.0029097963\n",
      "13:  Sqft9001000 1.718794e-06 0.001468294 0.0009699321\n"
     ]
    },
    {
     "name": "stderr",
     "output_type": "stream",
     "text": [
      "`geom_smooth()` using method = 'loess' and formula 'y ~ x'\n"
     ]
    },
    {
     "data": {
      "image/png": "[encoded data removed]",
      "text/plain": [
       "plot without title"
      ]
     },
     "metadata": {},
     "output_type": "display_data"
    }
   ],
   "source": [
    "# data: training data\n",
    "# max.depth: maximum depth of the tree\n",
    "# eta: step size\n",
    "# gamma: minimum loss reduction\n",
    "# subsample: subsample ratio of the training instance\n",
    "# nround: number of rounds\n",
    "# watchlist: watchlist\n",
    "# objective: regression or classification\n",
    "model <- xgb.train(data = dtrain,\n",
    "                   max.depth = 300, \n",
    "                   eta = 0.8, \n",
    "                   gamma = 0.01,\n",
    "                   subsample = 0.5,\n",
    "                   nround = 50,\n",
    "                   watchlist = watchlist, \n",
    "                   print_every_n = 10,\n",
    "                   objective = \"reg:linear\")\n",
    "# xgb.importance is a function that calculates the importance of each variable\n",
    "importance_matrix <- xgb.importance(feature_names = colnames(train_numeric), model = model)\n",
    "print(importance_matrix)\n",
    "# Now we can start predicting the testing set and visualize the result.\n",
    "model$pred <- predict(model, test_numeric)\n",
    "test$res <- test$Rent_Num - model$pred\n",
    "# visualize\n",
    "library(ggplot2)\n",
    "name <- \"xgboost\"\n",
    "ggplot() + ggtitle(paste(name,\".png\",sep=\"\")) +\n",
    "      labs(x=\"Rent\", y=\"Residuals\") +\n",
    "      geom_point(aes(test$Rent_Num, test$res),\n",
    "                 colour='blue', fill = \"blue\") +\n",
    "      geom_smooth(aes(test$Rent_Num, test$res), se=TRUE, fullrange=FALSE,\n",
    "                  colour='firebrick1', fill = \"firebrick1\")"
   ]
  },
  {
   "cell_type": "markdown",
   "metadata": {},
   "source": [
    "# Increasing the maximum depth"
   ]
  },
  {
   "cell_type": "code",
   "execution_count": 24,
   "metadata": {},
   "outputs": [
    {
     "name": "stdout",
     "output_type": "stream",
     "text": [
      "[1]\ttrain-rmse:821.909546\ttest-rmse:733.634094 \n",
      "[11]\ttrain-rmse:369.551422\ttest-rmse:307.904480 \n",
      "[21]\ttrain-rmse:228.747009\ttest-rmse:209.113129 \n",
      "[31]\ttrain-rmse:147.609650\ttest-rmse:217.105438 \n",
      "[41]\ttrain-rmse:110.739769\ttest-rmse:226.300369 \n",
      "[50]\ttrain-rmse:87.364540\ttest-rmse:213.358353 \n",
      "         Feature         Gain       Cover   Frequency\n",
      " 1:      Lon_Num 2.283172e-01 0.258474576 0.233587786\n",
      " 2:     Beds_Num 1.993616e-01 0.134437596 0.091603053\n",
      " 3:      Lat_Num 1.909535e-01 0.180020544 0.290076336\n",
      " 4:    Score_Num 1.101808e-01 0.141371341 0.161832061\n",
      " 5:    Baths_Num 1.096778e-01 0.078839240 0.054961832\n",
      " 6:    Tract_Fac 7.621499e-02 0.055469954 0.042748092\n",
      " 7:      Zip_Fac 4.308583e-02 0.038007191 0.021374046\n",
      " 8:     Sqft_Num 3.974508e-02 0.102722137 0.097709924\n",
      " 9: Sqft11001200 2.438539e-03 0.008988187 0.004580153\n",
      "10: Sqft10001100 2.467905e-05 0.001669235 0.001526718\n"
     ]
    },
    {
     "name": "stderr",
     "output_type": "stream",
     "text": [
      "`geom_smooth()` using method = 'loess' and formula 'y ~ x'\n"
     ]
    },
    {
     "data": {
      "image/png": "[encoded data removed]",
      "text/plain": [
       "plot without title"
      ]
     },
     "metadata": {},
     "output_type": "display_data"
    }
   ],
   "source": [
    "# data: training data\n",
    "# max.depth: maximum depth of the tree\n",
    "# eta: step size\n",
    "# gamma: minimum loss reduction\n",
    "# subsample: subsample ratio of the training instance\n",
    "# nround: number of rounds\n",
    "# watchlist: watchlist\n",
    "# objective: regression or classification\n",
    "model <- xgb.train(data = dtrain,\n",
    "                   max.depth = 500, \n",
    "                   eta = 0.1, \n",
    "                   gamma = 0.01,\n",
    "                   subsample = 0.5,\n",
    "                   nround = 50,\n",
    "                   watchlist = watchlist, \n",
    "                   print_every_n = 10,\n",
    "                   objective = \"reg:linear\")\n",
    "# xgb.importance is a function that calculates the importance of each variable\n",
    "importance_matrix <- xgb.importance(feature_names = colnames(train_numeric), model = model)\n",
    "print(importance_matrix)\n",
    "# Now we can start predicting the testing set and visualize the result.\n",
    "model$pred <- predict(model, test_numeric)\n",
    "test$res <- test$Rent_Num - model$pred\n",
    "# visualize\n",
    "library(ggplot2)\n",
    "name <- \"xgboost\"\n",
    "ggplot() + ggtitle(paste(name,\".png\",sep=\"\")) +\n",
    "      labs(x=\"Rent\", y=\"Residuals\") +\n",
    "      geom_point(aes(test$Rent_Num, test$res),\n",
    "                 colour='blue', fill = \"blue\") +\n",
    "      geom_smooth(aes(test$Rent_Num, test$res), se=TRUE, fullrange=FALSE,\n",
    "                  colour='firebrick1', fill = \"firebrick1\")"
   ]
  },
  {
   "cell_type": "markdown",
   "metadata": {},
   "source": [
    "## Increasing the maximum depth will generate a more complicated model and reduce the variation of residues. \n",
    "## To achieve better performance, we should use cross validation to tune the hyper parameters."
   ]
  },
  {
   "cell_type": "code",
   "execution_count": null,
   "metadata": {},
   "outputs": [],
   "source": []
  }
 ],
 "metadata": {
  "kernelspec": {
   "display_name": "R",
   "language": "R",
   "name": "ir"
  },
  "language_info": {
   "codemirror_mode": "r",
   "file_extension": ".r",
   "mimetype": "text/x-r-source",
   "name": "R",
   "pygments_lexer": "r",
   "version": "3.6.1"
  }
 },
 "nbformat": 4,
 "nbformat_minor": 2
}
