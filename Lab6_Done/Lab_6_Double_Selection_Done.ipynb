{
 "cells": [
  {
   "cell_type": "markdown",
   "metadata": {},
   "source": [
    "# Comparing OLS and Double Selection\n",
    "This material is originally developed for ACE 592 Big Data - Empirical Economics written on 7/21/2017 by Alex Stevens. \n",
    "\n",
    "### Motivation\n",
    "Researchers do not know the data generating process for the data they are analyzing. This exercise creates a nonlinear data generating process that is too complex for simple modelling to capture, then compares OLS and Double Selection estimation.\n",
    "\n",
    "### Objective:\n",
    "* Create Monte Carlo experiement\n",
    "* Compare distribution of coeffiecients estimated by OLS and Double Selection \n",
    "* Look at the effects of assumptions on these two models\n",
    "\n",
    "Remember to shut down your server when you are done by clicking Control Panel -> Shut Down Server"
   ]
  },
  {
   "cell_type": "markdown",
   "metadata": {},
   "source": [
    "## Step 1: Install packages "
   ]
  },
  {
   "cell_type": "code",
   "execution_count": 1,
   "metadata": {
    "scrolled": true
   },
   "outputs": [
    {
     "name": "stderr",
     "output_type": "stream",
     "text": [
      "Loading required package: Hmisc\n",
      "Loading required package: lattice\n",
      "Loading required package: survival\n",
      "Loading required package: Formula\n",
      "Loading required package: ggplot2\n",
      "\n",
      "Attaching package: 'Hmisc'\n",
      "\n",
      "The following objects are masked from 'package:base':\n",
      "\n",
      "    format.pval, units\n",
      "\n",
      "Loading required package: hdm\n",
      "Warning message in library(package, lib.loc = lib.loc, character.only = TRUE, logical.return = TRUE, :\n",
      "\"there is no package called 'hdm'\"Installing package into 'C:/Users/luoyec2/Documents/R/win-library/3.6'\n",
      "(as 'lib' is unspecified)\n"
     ]
    },
    {
     "name": "stdout",
     "output_type": "stream",
     "text": [
      "package 'hdm' successfully unpacked and MD5 sums checked\n",
      "\n",
      "The downloaded binary packages are in\n",
      "\tC:\\Users\\luoyec2\\AppData\\Local\\Temp\\Rtmp4WbNKs\\downloaded_packages\n"
     ]
    },
    {
     "name": "stderr",
     "output_type": "stream",
     "text": [
      "Loading required package: hdm\n",
      "Loading required package: mvtnorm\n"
     ]
    },
    {
     "data": {
      "text/html": [
       "<ol>\n",
       "\t<li>NULL</li>\n",
       "\t<li>NULL</li>\n",
       "\t<li>NULL</li>\n",
       "</ol>\n"
      ],
      "text/latex": [
       "\\begin{enumerate}\n",
       "\\item NULL\n",
       "\\item NULL\n",
       "\\item NULL\n",
       "\\end{enumerate}\n"
      ],
      "text/markdown": [
       "1. NULL\n",
       "2. NULL\n",
       "3. NULL\n",
       "\n",
       "\n"
      ],
      "text/plain": [
       "[[1]]\n",
       "NULL\n",
       "\n",
       "[[2]]\n",
       "NULL\n",
       "\n",
       "[[3]]\n",
       "NULL\n"
      ]
     },
     "metadata": {},
     "output_type": "display_data"
    }
   ],
   "source": [
    "rm(list=ls())\n",
    "## This function will check if a package is installed, and if not, install it\n",
    "pkgTest <- function(x) {\n",
    "  if (!require(x, character.only = TRUE))\n",
    "  {\n",
    "    install.packages(x, dep = TRUE, repos = \"http://cran.us.r-project.org\")\n",
    "    if(!require(x, character.only = TRUE)) stop(\"Package not found\")\n",
    "  }\n",
    "}\n",
    "\n",
    "## These lines load the required packages\n",
    "packages <- c(\"Hmisc\", \"hdm\",\"mvtnorm\")\n",
    "lapply(packages, pkgTest)"
   ]
  },
  {
   "cell_type": "markdown",
   "metadata": {},
   "source": [
    "## Step 2: Create data\n"
   ]
  },
  {
   "cell_type": "markdown",
   "metadata": {},
   "source": [
    "Set seed for replication"
   ]
  },
  {
   "cell_type": "code",
   "execution_count": 2,
   "metadata": {},
   "outputs": [],
   "source": [
    "set.seed(12345)"
   ]
  },
  {
   "cell_type": "markdown",
   "metadata": {},
   "source": [
    "Set sample size"
   ]
  },
  {
   "cell_type": "code",
   "execution_count": 3,
   "metadata": {},
   "outputs": [],
   "source": [
    "N <- 200"
   ]
  },
  {
   "cell_type": "markdown",
   "metadata": {},
   "source": [
    "Set number of simulations"
   ]
  },
  {
   "cell_type": "code",
   "execution_count": 4,
   "metadata": {},
   "outputs": [],
   "source": [
    "n.sims <- 40"
   ]
  },
  {
   "cell_type": "markdown",
   "metadata": {},
   "source": [
    "Create matrix of 200 random normally distributed variables"
   ]
  },
  {
   "cell_type": "code",
   "execution_count": 5,
   "metadata": {},
   "outputs": [],
   "source": [
    "x <- matrix(runif(N*50), nrow = N, ncol = 50)"
   ]
  },
  {
   "cell_type": "markdown",
   "metadata": {},
   "source": [
    "Create polynomials"
   ]
  },
  {
   "cell_type": "code",
   "execution_count": 6,
   "metadata": {},
   "outputs": [],
   "source": [
    "polyx<-cbind(x^2,x^3)"
   ]
  },
  {
   "cell_type": "markdown",
   "metadata": {},
   "source": [
    "Create 5 bins for first 40 variables"
   ]
  },
  {
   "cell_type": "code",
   "execution_count": 7,
   "metadata": {},
   "outputs": [],
   "source": [
    "nvar<-10\n",
    "quants<-5\n",
    "dumx<-matrix(nrow=N,ncol=quants*nvar)\n",
    "  for(i in 1:nvar){\n",
    "    indx<- factor(as.numeric(cut2(x[,i], g=quants)))\n",
    "    dumx[,((quants*i)-(quants-1)):(quants*i)]<-model.matrix(~indx-1)\n",
    "  }"
   ]
  },
  {
   "cell_type": "markdown",
   "metadata": {},
   "source": [
    "Create treatment variable where half of the observations are treatment half are control"
   ]
  },
  {
   "cell_type": "code",
   "execution_count": 8,
   "metadata": {},
   "outputs": [],
   "source": [
    " Treatment<-sample(rep(0:1,N/2))"
   ]
  },
  {
   "cell_type": "markdown",
   "metadata": {},
   "source": [
    "Create true y. Note:\n",
    "* True effect of Treatment on y is 1\n",
    "* Most x variables have no effect on y\n",
    "* Some x variables have nonlinear effects on y"
   ]
  },
  {
   "cell_type": "code",
   "execution_count": 9,
   "metadata": {},
   "outputs": [],
   "source": [
    "  y <- Treatment+x[,1] * 2+ x[,2] * 2.5 + 600*x[,3]-20*x[,3]^2-20*x[,3]^3+\n",
    "                #3*exp(x[,4]+x[,10])+2*log(x[,6]+x[,10]+100)+ \n",
    "                600*x[,7]^2+30*x[,8]^2- 20*x[,8]^3+\n",
    "                300*dumx[,(quants*5)]+90*dumx[,(quants*5)+1]+30*dumx[,(quants*5)+2]+\n",
    "                100*dumx[,(quants*8)+1]+50*dumx[,(quants*8)+2]+70*dumx[,(quants*8)+3]+\n",
    "                10*dumx[,(quants*9)]+60*dumx[,(quants*9)+3]-6*dumx[,(quants*9)+5]+\n",
    "                rnorm(N)"
   ]
  },
  {
   "cell_type": "markdown",
   "metadata": {},
   "source": [
    "## Step 3: Analyze Data"
   ]
  },
  {
   "cell_type": "markdown",
   "metadata": {},
   "source": [
    "Estimate naive OLS model using only x variables and summarize"
   ]
  },
  {
   "cell_type": "code",
   "execution_count": 10,
   "metadata": {},
   "outputs": [
    {
     "data": {
      "text/plain": [
       "\n",
       "Call:\n",
       "lm(formula = y ~ Treatment + x)\n",
       "\n",
       "Residuals:\n",
       "     Min       1Q   Median       3Q      Max \n",
       "-169.283  -64.938   -5.222   63.929  275.300 \n",
       "\n",
       "Coefficients:\n",
       "            Estimate Std. Error t value Pr(>|t|)    \n",
       "(Intercept) -10.9946   109.2828  -0.101  0.92000    \n",
       "Treatment   -16.9660    16.3809  -1.036  0.30202    \n",
       "x1          -18.0546    28.2617  -0.639  0.52392    \n",
       "x2           15.0191    28.4031   0.529  0.59775    \n",
       "x3          591.5983    29.6282  19.967  < 2e-16 ***\n",
       "x4            3.0586    27.6139   0.111  0.91195    \n",
       "x5          317.6167    31.9311   9.947  < 2e-16 ***\n",
       "x6          -79.2730    29.3840  -2.698  0.00779 ** \n",
       "x7          552.3871    27.5115  20.078  < 2e-16 ***\n",
       "x8          -17.5010    28.5975  -0.612  0.54149    \n",
       "x9          -73.1006    30.8280  -2.371  0.01902 *  \n",
       "x10          10.7842    29.6723   0.363  0.71679    \n",
       "x11          35.1361    28.9508   1.214  0.22681    \n",
       "x12         -57.0955    28.3547  -2.014  0.04586 *  \n",
       "x13          31.9717    29.2230   1.094  0.27571    \n",
       "x14         -25.8100    29.2669  -0.882  0.37927    \n",
       "x15          -8.8231    29.4027  -0.300  0.76454    \n",
       "x16         -25.1409    30.5069  -0.824  0.41121    \n",
       "x17          49.9961    30.1480   1.658  0.09936 .  \n",
       "x18         -22.0064    32.9998  -0.667  0.50590    \n",
       "x19         -12.1615    27.8569  -0.437  0.66306    \n",
       "x20          29.9880    27.8985   1.075  0.28417    \n",
       "x21           0.4058    29.0899   0.014  0.98889    \n",
       "x22         -20.8952    28.4661  -0.734  0.46409    \n",
       "x23          42.5667    28.3267   1.503  0.13505    \n",
       "x24          50.4826    32.7543   1.541  0.12539    \n",
       "x25          42.9827    29.5878   1.453  0.14842    \n",
       "x26         -31.2563    28.6785  -1.090  0.27753    \n",
       "x27         -40.9990    29.9388  -1.369  0.17294    \n",
       "x28          21.6040    29.2173   0.739  0.46082    \n",
       "x29          76.4168    30.8536   2.477  0.01438 *  \n",
       "x30         -60.6883    29.4104  -2.063  0.04081 *  \n",
       "x31          -9.6078    29.9461  -0.321  0.74879    \n",
       "x32          14.9767    27.7830   0.539  0.59065    \n",
       "x33         -46.5309    31.4144  -1.481  0.14068    \n",
       "x34         -23.0078    31.6732  -0.726  0.46873    \n",
       "x35           6.2403    29.5280   0.211  0.83292    \n",
       "x36          -6.9960    30.1259  -0.232  0.81668    \n",
       "x37         -24.8887    27.9311  -0.891  0.37433    \n",
       "x38           0.1680    31.9453   0.005  0.99581    \n",
       "x39         -37.7278    30.3417  -1.243  0.21568    \n",
       "x40          35.0753    28.5401   1.229  0.22103    \n",
       "x41           8.6982    30.1655   0.288  0.77348    \n",
       "x42          14.5003    29.4934   0.492  0.62370    \n",
       "x43          11.5887    29.2331   0.396  0.69236    \n",
       "x44           3.6360    28.7124   0.127  0.89940    \n",
       "x45         -22.3669    29.1841  -0.766  0.44466    \n",
       "x46          26.7700    27.1248   0.987  0.32529    \n",
       "x47         -26.0522    27.9646  -0.932  0.35305    \n",
       "x48          22.1748    30.4318   0.729  0.46735    \n",
       "x49          43.4613    28.2802   1.537  0.12647    \n",
       "x50         -30.1281    29.3914  -1.025  0.30700    \n",
       "---\n",
       "Signif. codes:  0 '***' 0.001 '**' 0.01 '*' 0.05 '.' 0.1 ' ' 1\n",
       "\n",
       "Residual standard error: 102.4 on 148 degrees of freedom\n",
       "Multiple R-squared:  0.8792,\tAdjusted R-squared:  0.8375 \n",
       "F-statistic: 21.11 on 51 and 148 DF,  p-value: < 2.2e-16\n"
      ]
     },
     "metadata": {},
     "output_type": "display_data"
    }
   ],
   "source": [
    "fit.lm <- lm(y~Treatment+x)\n",
    "summary(fit.lm)"
   ]
  },
  {
   "cell_type": "markdown",
   "metadata": {},
   "source": [
    "Estimate naive Double Selection model using only x variables and summarize"
   ]
  },
  {
   "cell_type": "code",
   "execution_count": 11,
   "metadata": {},
   "outputs": [
    {
     "data": {
      "text/plain": [
       "[1] \"Estimates and significance testing of the effect of target variables\"\n",
       "   Estimate. Std. Error t value Pr(>|t|)  \n",
       "d1    -25.48      14.63  -1.742   0.0816 .\n",
       "---\n",
       "Signif. codes:  0 '***' 0.001 '**' 0.01 '*' 0.05 '.' 0.1 ' ' 1\n",
       "\n"
      ]
     },
     "metadata": {},
     "output_type": "display_data"
    }
   ],
   "source": [
    "fit.ds <- rlassoEffect(x, y, Treatment, method = \"double selection\")\n",
    "summary(fit.ds)"
   ]
  },
  {
   "cell_type": "markdown",
   "metadata": {},
   "source": [
    "Now assume some x variables have polynomial effects on y and estimate OLS with x and polyx variables"
   ]
  },
  {
   "cell_type": "code",
   "execution_count": 12,
   "metadata": {},
   "outputs": [
    {
     "data": {
      "text/plain": [
       "\n",
       "Call:\n",
       "lm(formula = y ~ Treatment + x + polyx)\n",
       "\n",
       "Residuals:\n",
       "    Min      1Q  Median      3Q     Max \n",
       "-87.342 -25.054  -0.034  21.517 111.390 \n",
       "\n",
       "Coefficients:\n",
       "             Estimate Std. Error t value Pr(>|t|)  \n",
       "(Intercept)   117.156    283.118   0.414   0.6809  \n",
       "Treatment     -14.026     19.460  -0.721   0.4745  \n",
       "x1            -14.298    303.583  -0.047   0.9626  \n",
       "x2           -220.140    397.343  -0.554   0.5821  \n",
       "x3            801.049    316.597   2.530   0.0147 *\n",
       "x4           -133.648    350.983  -0.381   0.7050  \n",
       "x5            252.258    459.715   0.549   0.5857  \n",
       "x6           -239.628    295.502  -0.811   0.4214  \n",
       "x7             -7.961    372.981  -0.021   0.9831  \n",
       "x8            387.377    385.801   1.004   0.3204  \n",
       "x9             97.009    288.737   0.336   0.7384  \n",
       "x10           249.887    369.919   0.676   0.5026  \n",
       "x11           374.552    310.845   1.205   0.2341  \n",
       "x12           113.206    426.583   0.265   0.7919  \n",
       "x13            58.257    315.895   0.184   0.8545  \n",
       "x14           -33.354    367.355  -0.091   0.9280  \n",
       "x15          -173.631    389.570  -0.446   0.6578  \n",
       "x16          -485.342    397.000  -1.223   0.2275  \n",
       "x17           542.967    291.802   1.861   0.0689 .\n",
       "x18           414.721    383.347   1.082   0.2847  \n",
       "x19            95.269    345.365   0.276   0.7838  \n",
       "x20          -733.946    395.337  -1.857   0.0695 .\n",
       "x21           230.905    362.571   0.637   0.5272  \n",
       "x22          -207.483    331.978  -0.625   0.5349  \n",
       "x23           236.601    332.630   0.711   0.4803  \n",
       "x24           -27.648    344.472  -0.080   0.9364  \n",
       "x25           316.779    360.153   0.880   0.3835  \n",
       "x26           157.431    339.699   0.463   0.6451  \n",
       "x27           -18.266    336.192  -0.054   0.9569  \n",
       "x28           508.386    345.455   1.472   0.1476  \n",
       "x29           132.591    287.305   0.461   0.6465  \n",
       "x30            77.450    413.441   0.187   0.8522  \n",
       "x31           -89.881    333.131  -0.270   0.7885  \n",
       "x32            16.104    326.324   0.049   0.9608  \n",
       "x33          -400.774    372.923  -1.075   0.2879  \n",
       "x34          -189.036    399.562  -0.473   0.6383  \n",
       "x35           107.508    303.848   0.354   0.7250  \n",
       "x36           175.379    359.874   0.487   0.6282  \n",
       "x37          -275.068    311.291  -0.884   0.3813  \n",
       "x38            -2.647    307.699  -0.009   0.9932  \n",
       "x39          -523.554    377.121  -1.388   0.1715  \n",
       "x40           -56.037    379.476  -0.148   0.8832  \n",
       "x41           251.135    382.341   0.657   0.5144  \n",
       "x42           202.168    419.374   0.482   0.6319  \n",
       "x43            -2.468    332.803  -0.007   0.9941  \n",
       "x44            74.734    346.514   0.216   0.8302  \n",
       "x45          -282.711    337.607  -0.837   0.4065  \n",
       "x46           303.580    283.589   1.070   0.2898  \n",
       "x47           195.235    339.447   0.575   0.5679  \n",
       "x48           -82.145    331.163  -0.248   0.8052  \n",
       "x49          -227.415    302.208  -0.753   0.4554  \n",
       "x50          -293.062    312.180  -0.939   0.3526  \n",
       "polyx1       -175.929    728.511  -0.241   0.8102  \n",
       "polyx2        715.692    877.891   0.815   0.4190  \n",
       "polyx3       -300.729    745.973  -0.403   0.6886  \n",
       "polyx4        426.256    861.621   0.495   0.6231  \n",
       "polyx5      -1049.304   1082.294  -0.970   0.3371  \n",
       "polyx6        315.847    706.677   0.447   0.6569  \n",
       "polyx7        791.856    871.907   0.908   0.3683  \n",
       "polyx8      -1067.850    921.175  -1.159   0.2521  \n",
       "polyx9       -408.417    730.982  -0.559   0.5789  \n",
       "polyx10      -649.497    927.233  -0.700   0.4870  \n",
       "polyx11     -1059.337    718.768  -1.474   0.1471  \n",
       "polyx12      -242.152   1001.692  -0.242   0.8100  \n",
       "polyx13      -238.716    736.682  -0.324   0.7473  \n",
       "polyx14       349.959    893.601   0.392   0.6971  \n",
       "polyx15       363.725    855.631   0.425   0.6727  \n",
       "polyx16       854.734    937.441   0.912   0.3664  \n",
       "polyx17     -1422.583    701.031  -2.029   0.0480 *\n",
       "polyx18     -1073.046    835.872  -1.284   0.2054  \n",
       "polyx19       189.759    858.955   0.221   0.8261  \n",
       "polyx20      1708.872    936.189   1.825   0.0742 .\n",
       "polyx21      -626.096    878.367  -0.713   0.4794  \n",
       "polyx22       260.610    719.045   0.362   0.7186  \n",
       "polyx23      -559.580    754.389  -0.742   0.4618  \n",
       "polyx24       223.887    829.880   0.270   0.7885  \n",
       "polyx25      -889.597    802.854  -1.108   0.2734  \n",
       "polyx26      -426.442    764.877  -0.558   0.5798  \n",
       "polyx27      -202.143    835.980  -0.242   0.8100  \n",
       "polyx28      -816.132    773.422  -1.055   0.2966  \n",
       "polyx29       -72.719    669.184  -0.109   0.9139  \n",
       "polyx30      -241.141    927.382  -0.260   0.7960  \n",
       "polyx31       406.294    782.997   0.519   0.6062  \n",
       "polyx32       -66.290    799.687  -0.083   0.9343  \n",
       "polyx33       861.305    820.506   1.050   0.2991  \n",
       "polyx34       331.887    935.277   0.355   0.7243  \n",
       "polyx35      -129.208    742.564  -0.174   0.8626  \n",
       "polyx36      -412.683    814.412  -0.507   0.6147  \n",
       "polyx37       718.622    672.687   1.068   0.2907  \n",
       "polyx38      -327.065    763.526  -0.428   0.6703  \n",
       "polyx39      1354.028    861.487   1.572   0.1226  \n",
       "polyx40       137.742    814.909   0.169   0.8665  \n",
       "polyx41      -678.568    928.319  -0.731   0.4684  \n",
       "polyx42      -813.698    946.533  -0.860   0.3942  \n",
       "polyx43      -126.315    793.895  -0.159   0.8743  \n",
       "polyx44      -222.400    812.142  -0.274   0.7854  \n",
       "polyx45       572.384    852.663   0.671   0.5053  \n",
       "polyx46      -751.148    689.619  -1.089   0.2815  \n",
       "polyx47      -774.570    810.497  -0.956   0.3440  \n",
       "polyx48       110.658    792.129   0.140   0.8895  \n",
       "polyx49       652.478    689.671   0.946   0.3489  \n",
       "polyx50       876.493    731.564   1.198   0.2368  \n",
       "polyx51       179.464    495.449   0.362   0.7188  \n",
       "polyx52      -531.122    557.310  -0.953   0.3454  \n",
       "polyx53        47.440    502.596   0.094   0.9252  \n",
       "polyx54      -352.990    584.541  -0.604   0.5488  \n",
       "polyx55      1313.105    728.425   1.803   0.0777 .\n",
       "polyx56      -194.464    479.113  -0.406   0.6866  \n",
       "polyx57      -226.283    567.552  -0.399   0.6919  \n",
       "polyx58       723.932    605.126   1.196   0.2374  \n",
       "polyx59       286.986    500.806   0.573   0.5693  \n",
       "polyx60       482.444    637.495   0.757   0.4529  \n",
       "polyx61       773.490    480.654   1.609   0.1141  \n",
       "polyx62       106.161    647.423   0.164   0.8704  \n",
       "polyx63       183.431    490.414   0.374   0.7100  \n",
       "polyx64      -307.346    603.360  -0.509   0.6128  \n",
       "polyx65      -196.798    535.748  -0.367   0.7150  \n",
       "polyx66      -479.811    629.509  -0.762   0.4497  \n",
       "polyx67      1015.685    476.481   2.132   0.0382 *\n",
       "polyx68       688.477    528.876   1.302   0.1992  \n",
       "polyx69      -331.171    588.416  -0.563   0.5762  \n",
       "polyx70     -1083.234    604.166  -1.793   0.0793 .\n",
       "polyx71       466.231    602.639   0.774   0.4429  \n",
       "polyx72       -43.465    458.973  -0.095   0.9249  \n",
       "polyx73       354.084    490.174   0.722   0.4736  \n",
       "polyx74      -185.558    553.943  -0.335   0.7391  \n",
       "polyx75       711.786    518.720   1.372   0.1764  \n",
       "polyx76       309.133    494.025   0.626   0.5344  \n",
       "polyx77       245.655    574.462   0.428   0.6708  \n",
       "polyx78       349.153    494.838   0.706   0.4839  \n",
       "polyx79       -26.102    450.857  -0.058   0.9541  \n",
       "polyx80       150.892    597.929   0.252   0.8018  \n",
       "polyx81      -315.759    522.595  -0.604   0.5485  \n",
       "polyx82        70.438    534.035   0.132   0.8956  \n",
       "polyx83      -504.794    525.927  -0.960   0.3420  \n",
       "polyx84      -157.134    618.008  -0.254   0.8004  \n",
       "polyx85         1.601    497.170   0.003   0.9974  \n",
       "polyx86       310.968    516.999   0.601   0.5503  \n",
       "polyx87      -482.271    421.982  -1.143   0.2588  \n",
       "polyx88       311.152    527.478   0.590   0.5580  \n",
       "polyx89      -967.489    558.289  -1.733   0.0895 .\n",
       "polyx90       -97.051    517.393  -0.188   0.8520  \n",
       "polyx91       469.165    611.603   0.767   0.4468  \n",
       "polyx92       662.813    601.564   1.102   0.2760  \n",
       "polyx93        97.425    527.586   0.185   0.8543  \n",
       "polyx94       131.142    533.955   0.246   0.8070  \n",
       "polyx95      -316.386    586.265  -0.540   0.5919  \n",
       "polyx96       540.988    456.985   1.184   0.2423  \n",
       "polyx97       622.909    542.693   1.148   0.2567  \n",
       "polyx98        -6.023    537.819  -0.011   0.9911  \n",
       "polyx99      -458.366    450.348  -1.018   0.3139  \n",
       "polyx100     -652.848    482.405  -1.353   0.1823  \n",
       "---\n",
       "Signif. codes:  0 '***' 0.001 '**' 0.01 '*' 0.05 '.' 0.1 ' ' 1\n",
       "\n",
       "Residual standard error: 68.12 on 48 degrees of freedom\n",
       "Multiple R-squared:  0.9827,\tAdjusted R-squared:  0.9281 \n",
       "F-statistic: 18.01 on 151 and 48 DF,  p-value: < 2.2e-16\n"
      ]
     },
     "metadata": {},
     "output_type": "display_data"
    }
   ],
   "source": [
    "fit.lm.os <- lm(y~Treatment+x+polyx)\n",
    "  summary(fit.lm.os)"
   ]
  },
  {
   "cell_type": "markdown",
   "metadata": {},
   "source": [
    "Assume some x variables have binned effects on y and estimate OLS "
   ]
  },
  {
   "cell_type": "code",
   "execution_count": 13,
   "metadata": {},
   "outputs": [
    {
     "data": {
      "text/plain": [
       "\n",
       "Call:\n",
       "lm(formula = y ~ Treatment + x + dumx + polyx)\n",
       "\n",
       "Residuals:\n",
       "     Min       1Q   Median       3Q      Max \n",
       "-0.48316 -0.10450  0.01509  0.10135  0.45388 \n",
       "\n",
       "Coefficients: (10 not defined because of singularities)\n",
       "              Estimate Std. Error  t value Pr(>|t|)    \n",
       "(Intercept)  264.55350   22.02832   12.010 2.13e-06 ***\n",
       "Treatment      1.54743    0.53805    2.876 0.020638 *  \n",
       "x1            27.58123   17.99227    1.533 0.163829    \n",
       "x2             1.33839   16.56898    0.081 0.937603    \n",
       "x3           617.96279   14.44433   42.782 9.82e-11 ***\n",
       "x4            27.94150   29.85277    0.936 0.376675    \n",
       "x5           -39.71809   20.04958   -1.981 0.082921 .  \n",
       "x6             6.45897   14.56738    0.443 0.669233    \n",
       "x7            -9.66039   21.17964   -0.456 0.660433    \n",
       "x8             0.09219   12.84239    0.007 0.994448    \n",
       "x9            50.43060   21.41125    2.355 0.046294 *  \n",
       "x10           22.22754   17.30348    1.285 0.234888    \n",
       "x11          -19.72608   14.82110   -1.331 0.219888    \n",
       "x12            9.47355   10.46936    0.905 0.391963    \n",
       "x13           -5.00565    5.80531   -0.862 0.413646    \n",
       "x14           25.63425    9.02271    2.841 0.021776 *  \n",
       "x15           31.31491   19.80274    1.581 0.152456    \n",
       "x16            6.00736   12.13113    0.495 0.633771    \n",
       "x17           -5.38187    8.84562   -0.608 0.559782    \n",
       "x18            7.53453   13.39001    0.563 0.589058    \n",
       "x19           21.01097   14.98865    1.402 0.198563    \n",
       "x20            6.01280   11.67765    0.515 0.620545    \n",
       "x21           25.02749   17.53653    1.427 0.191376    \n",
       "x22          -10.24826   11.21592   -0.914 0.387570    \n",
       "x23            9.35456   11.43932    0.818 0.437173    \n",
       "x24           -1.25931   10.36246   -0.122 0.906272    \n",
       "x25           -8.10786   15.81271   -0.513 0.621985    \n",
       "x26           -3.95339   10.10168   -0.391 0.705749    \n",
       "x27           -5.24769    9.58709   -0.547 0.599058    \n",
       "x28          -21.68624   17.33986   -1.251 0.246398    \n",
       "x29           11.53301    9.02620    1.278 0.237174    \n",
       "x30           11.38533   12.76048    0.892 0.398310    \n",
       "x31           -3.27829    9.43273   -0.348 0.737149    \n",
       "x32           28.18219   15.57950    1.809 0.108068    \n",
       "x33           -9.75246   10.66662   -0.914 0.387287    \n",
       "x34           -5.22727    8.35065   -0.626 0.548772    \n",
       "x35           -6.60504    9.82060   -0.673 0.520170    \n",
       "x36           -8.13322   10.40158   -0.782 0.456777    \n",
       "x37           41.17038   13.50732    3.048 0.015869 *  \n",
       "x38           -4.21105    9.41893   -0.447 0.666671    \n",
       "x39          -22.43508   13.39508   -1.675 0.132490    \n",
       "x40           -4.16549    9.86080   -0.422 0.683836    \n",
       "x41          -25.25840   14.13214   -1.787 0.111699    \n",
       "x42           33.97448   20.37791    1.667 0.134028    \n",
       "x43           -1.64729    9.19696   -0.179 0.862303    \n",
       "x44           10.48726   17.49374    0.599 0.565436    \n",
       "x45          -11.36336    8.86692   -1.282 0.235896    \n",
       "x46          -12.10621    9.85155   -1.229 0.254042    \n",
       "x47           -0.57172    7.85586   -0.073 0.943771    \n",
       "x48            7.90904    9.62411    0.822 0.435000    \n",
       "x49            1.97235    9.97131    0.198 0.848134    \n",
       "x50           -0.67223    7.51875   -0.089 0.930956    \n",
       "dumx1          8.51891    7.29951    1.167 0.276796    \n",
       "dumx2          4.45322    4.79818    0.928 0.380503    \n",
       "dumx3          3.35059    2.81717    1.189 0.268405    \n",
       "dumx4          2.46667    1.72472    1.430 0.190535    \n",
       "dumx5               NA         NA       NA       NA    \n",
       "dumx6         -0.93322    4.70430   -0.198 0.847700    \n",
       "dumx7         -1.28575    4.70804   -0.273 0.791697    \n",
       "dumx8          2.20545    3.24526    0.680 0.515941    \n",
       "dumx9          2.26048    1.58019    1.431 0.190445    \n",
       "dumx10              NA         NA       NA       NA    \n",
       "dumx11         2.56943    4.07499    0.631 0.545931    \n",
       "dumx12         0.43363    3.82574    0.113 0.912550    \n",
       "dumx13        -0.84700    3.00435   -0.282 0.785157    \n",
       "dumx14        -2.09417    1.88082   -1.113 0.297855    \n",
       "dumx15              NA         NA       NA       NA    \n",
       "dumx16         8.49787    4.45651    1.907 0.092983 .  \n",
       "dumx17         5.29616    2.57769    2.055 0.073976 .  \n",
       "dumx18         6.04292    2.37718    2.542 0.034600 *  \n",
       "dumx19         0.77342    1.52579    0.507 0.625901    \n",
       "dumx20              NA         NA       NA       NA    \n",
       "dumx21      -309.93725    6.37403  -48.625 3.54e-11 ***\n",
       "dumx22      -306.93277    5.20318  -58.989 7.58e-12 ***\n",
       "dumx23      -305.26798    3.33649  -91.494 2.27e-13 ***\n",
       "dumx24      -302.24752    1.96292 -153.979 3.54e-15 ***\n",
       "dumx25              NA         NA       NA       NA    \n",
       "dumx26        96.58797    8.29432   11.645 2.69e-06 ***\n",
       "dumx27        33.86431    6.44870    5.251 0.000773 ***\n",
       "dumx28         1.19294    4.06995    0.293 0.776897    \n",
       "dumx29        -1.21986    1.79162   -0.681 0.515173    \n",
       "dumx30              NA         NA       NA       NA    \n",
       "dumx31        13.34147    7.20592    1.851 0.101250    \n",
       "dumx32        11.82304    5.42726    2.178 0.061009 .  \n",
       "dumx33         4.67007    3.27673    1.425 0.191918    \n",
       "dumx34         2.09464    2.03239    1.031 0.332863    \n",
       "dumx35              NA         NA       NA       NA    \n",
       "dumx36        -4.77695    2.95769   -1.615 0.144953    \n",
       "dumx37        -1.84572    2.45714   -0.751 0.474068    \n",
       "dumx38        -0.45215    2.13744   -0.212 0.837757    \n",
       "dumx39        -0.07318    1.56537   -0.047 0.963860    \n",
       "dumx40              NA         NA       NA       NA    \n",
       "dumx41        86.81125    3.50191   24.790 7.50e-09 ***\n",
       "dumx42        32.32955    3.83439    8.431 2.99e-05 ***\n",
       "dumx43        54.84959    2.47996   22.117 1.85e-08 ***\n",
       "dumx44       -11.39027    1.46740   -7.762 5.42e-05 ***\n",
       "dumx45              NA         NA       NA       NA    \n",
       "dumx46         9.21594    2.62910    3.505 0.008016 ** \n",
       "dumx47         8.67321    2.68483    3.230 0.012049 *  \n",
       "dumx48        69.45281    2.60357   26.676 4.20e-09 ***\n",
       "dumx49         7.72194    1.48929    5.185 0.000838 ***\n",
       "dumx50              NA         NA       NA       NA    \n",
       "polyx1       -31.69772   32.96870   -0.961 0.364482    \n",
       "polyx2       -26.12859   46.14989   -0.566 0.586806    \n",
       "polyx3       -40.18799   33.76855   -1.190 0.268123    \n",
       "polyx4       -57.36920   60.55186   -0.947 0.371151    \n",
       "polyx5        36.71261   38.69682    0.949 0.370535    \n",
       "polyx6        23.62129   50.74504    0.465 0.653990    \n",
       "polyx7       683.67608   46.83796   14.597 4.76e-07 ***\n",
       "polyx8         2.97692   35.55839    0.084 0.935337    \n",
       "polyx9      -119.47961   56.42165   -2.118 0.067073 .  \n",
       "polyx10      -52.54295   34.01563   -1.545 0.161006    \n",
       "polyx11       45.46638   35.27467    1.289 0.233444    \n",
       "polyx12       -9.09328   24.57772   -0.370 0.721000    \n",
       "polyx13       18.73723   14.42375    1.299 0.230113    \n",
       "polyx14      -70.17004   24.62092   -2.850 0.021479 *  \n",
       "polyx15      -69.24925   43.56226   -1.590 0.150575    \n",
       "polyx16      -20.42881   31.09016   -0.657 0.529573    \n",
       "polyx17       23.97949   23.81195    1.007 0.343402    \n",
       "polyx18       -0.97306   24.91671   -0.039 0.969806    \n",
       "polyx19      -52.94659   40.64140   -1.303 0.228899    \n",
       "polyx20      -17.60005   28.00643   -0.628 0.547241    \n",
       "polyx21      -64.83009   45.67245   -1.419 0.193535    \n",
       "polyx22       29.43224   27.13475    1.085 0.309670    \n",
       "polyx23       -7.83199   27.40807   -0.286 0.782325    \n",
       "polyx24        2.25245   23.33461    0.097 0.925475    \n",
       "polyx25       20.75299   34.60968    0.600 0.565345    \n",
       "polyx26        0.48105   21.72722    0.022 0.982878    \n",
       "polyx27       30.12893   20.85845    1.444 0.186613    \n",
       "polyx28       30.04425   32.28225    0.931 0.379250    \n",
       "polyx29      -22.23459   20.21931   -1.100 0.303463    \n",
       "polyx30      -26.34006   28.05766   -0.939 0.375317    \n",
       "polyx31       17.29877   22.86582    0.757 0.471019    \n",
       "polyx32      -73.86496   38.54383   -1.916 0.091624 .  \n",
       "polyx33       18.88631   20.51020    0.921 0.384069    \n",
       "polyx34       21.30390   19.20900    1.109 0.299629    \n",
       "polyx35       22.12015   28.03435    0.789 0.452837    \n",
       "polyx36       21.19723   24.47051    0.866 0.411586    \n",
       "polyx37      -85.27019   29.30569   -2.910 0.019599 *  \n",
       "polyx38       16.57171   24.89381    0.666 0.524331    \n",
       "polyx39       45.90524   28.69818    1.600 0.148358    \n",
       "polyx40      -12.18154   25.74536   -0.473 0.648744    \n",
       "polyx41       71.62637   39.33118    1.821 0.106072    \n",
       "polyx42      -59.96606   42.54397   -1.410 0.196353    \n",
       "polyx43        6.03770   23.90192    0.253 0.806944    \n",
       "polyx44      -37.22806   41.84530   -0.890 0.399611    \n",
       "polyx45       25.93067   23.14026    1.121 0.294973    \n",
       "polyx46       26.50276   23.58929    1.124 0.293803    \n",
       "polyx47       11.83833   18.47208    0.641 0.539523    \n",
       "polyx48      -30.24136   25.21839   -1.199 0.264769    \n",
       "polyx49        5.46913   25.24919    0.217 0.833937    \n",
       "polyx50        2.23949   16.88243    0.133 0.897745    \n",
       "polyx51       18.63651   22.94492    0.812 0.440159    \n",
       "polyx52       23.85969   29.00348    0.823 0.434541    \n",
       "polyx53      -14.62023   21.95011   -0.666 0.524107    \n",
       "polyx54       44.39305   38.74105    1.146 0.284958    \n",
       "polyx55      -11.01229   25.83438   -0.426 0.681152    \n",
       "polyx56      -22.89145   34.17991   -0.670 0.521885    \n",
       "polyx57      -60.14149   30.65474   -1.962 0.085407 .  \n",
       "polyx58        3.51675   26.20555    0.134 0.896560    \n",
       "polyx59       71.87738   37.27296    1.928 0.089942 .  \n",
       "polyx60       36.39434   19.70371    1.847 0.101932    \n",
       "polyx61      -31.50254   24.02678   -1.311 0.226190    \n",
       "polyx62       -2.78229   16.17929   -0.172 0.867735    \n",
       "polyx63      -15.00975    9.87518   -1.520 0.167012    \n",
       "polyx64       46.86478   17.81964    2.630 0.030180 *  \n",
       "polyx65       42.12517   27.10599    1.554 0.158769    \n",
       "polyx66       16.46510   21.50914    0.765 0.465959    \n",
       "polyx67      -21.19533   17.61716   -1.203 0.263328    \n",
       "polyx68       -4.95780   14.71644   -0.337 0.744869    \n",
       "polyx69       36.84764   29.21622    1.261 0.242769    \n",
       "polyx70       13.41050   18.05390    0.743 0.478842    \n",
       "polyx71       45.50552   32.17508    1.414 0.194988    \n",
       "polyx72      -21.11124   18.30065   -1.154 0.281971    \n",
       "polyx73       -0.14224   18.10526   -0.008 0.993924    \n",
       "polyx74       -1.29623   14.93222   -0.087 0.932958    \n",
       "polyx75      -14.67543   21.43820   -0.685 0.512970    \n",
       "polyx76        5.53629   13.54232    0.409 0.693401    \n",
       "polyx77      -26.03687   14.08345   -1.849 0.101671    \n",
       "polyx78      -10.66615   17.93153   -0.595 0.568398    \n",
       "polyx79       12.00663   12.99531    0.924 0.382550    \n",
       "polyx80       20.17920   18.86655    1.070 0.316017    \n",
       "polyx81      -14.82820   14.93938   -0.993 0.349994    \n",
       "polyx82       49.96679   25.66171    1.947 0.087378 .  \n",
       "polyx83      -10.13857   12.66923   -0.800 0.446676    \n",
       "polyx84      -16.45472   12.66766   -1.299 0.230145    \n",
       "polyx85      -15.78386   19.88169   -0.794 0.450165    \n",
       "polyx86      -15.16257   16.03607   -0.946 0.372067    \n",
       "polyx87       48.14924   17.31195    2.781 0.023878 *  \n",
       "polyx88      -15.05833   17.31481   -0.870 0.409810    \n",
       "polyx89      -27.90356   17.96808   -1.553 0.159038    \n",
       "polyx90       14.94505   19.03193    0.785 0.454925    \n",
       "polyx91      -50.26576   27.66885   -1.817 0.106792    \n",
       "polyx92       30.01948   24.22354    1.239 0.250368    \n",
       "polyx93       -4.78689   16.59350   -0.288 0.780313    \n",
       "polyx94       29.09408   26.65480    1.092 0.306826    \n",
       "polyx95      -19.36816   16.60653   -1.166 0.277084    \n",
       "polyx96      -16.67730   15.60981   -1.068 0.316522    \n",
       "polyx97      -12.26547   12.49400   -0.982 0.354996    \n",
       "polyx98       22.28623   17.26092    1.291 0.232712    \n",
       "polyx99      -10.63016   18.04459   -0.589 0.572046    \n",
       "polyx100       0.40517   11.05295    0.037 0.971657    \n",
       "---\n",
       "Signif. codes:  0 '***' 0.001 '**' 0.01 '*' 0.05 '.' 0.1 ' ' 1\n",
       "\n",
       "Residual standard error: 0.8487 on 8 degrees of freedom\n",
       "Multiple R-squared:      1,\tAdjusted R-squared:      1 \n",
       "F-statistic: 9.335e+04 on 191 and 8 DF,  p-value: < 2.2e-16\n"
      ]
     },
     "metadata": {},
     "output_type": "display_data"
    }
   ],
   "source": [
    "fit.lm.os <- lm(y~Treatment+x+dumx+polyx)\n",
    "  summary(fit.lm.os)"
   ]
  },
  {
   "cell_type": "markdown",
   "metadata": {},
   "source": [
    "Assume some x variables have binned and polynomial effects on y and estimate double selection"
   ]
  },
  {
   "cell_type": "code",
   "execution_count": 14,
   "metadata": {},
   "outputs": [
    {
     "data": {
      "text/plain": [
       "[1] \"Estimates and significance testing of the effect of target variables\"\n",
       "   Estimate. Std. Error t value Pr(>|t|)  \n",
       "d1    0.6025     0.3404    1.77   0.0767 .\n",
       "---\n",
       "Signif. codes:  0 '***' 0.001 '**' 0.01 '*' 0.05 '.' 0.1 ' ' 1\n",
       "\n"
      ]
     },
     "metadata": {},
     "output_type": "display_data"
    }
   ],
   "source": [
    "xds<-cbind(x,dumx,polyx)\n",
    "  \n",
    "fit.ds.os <- rlassoEffect(xds, y, Treatment, method = \"double selection\")\n",
    "summary(fit.ds.os)"
   ]
  },
  {
   "cell_type": "markdown",
   "metadata": {},
   "source": [
    "# Step 4: Monte Carlo"
   ]
  },
  {
   "cell_type": "markdown",
   "metadata": {},
   "source": [
    "Each of these method give much different coefficients for Treatment. We will use a Monte Carlo to visualize the distribution of coefficients and measure the type 1 and type 2 errors for the tests."
   ]
  },
  {
   "cell_type": "markdown",
   "metadata": {},
   "source": [
    "### Create output matrices\n",
    "Prefixes:\n",
    "* betahat~ -- estimates of Treatment coefficient\n",
    "* type1~ -- type one error(1), no type one error(0)\n",
    "* type2~ -- type two error(1), no type two error(0), where false null is less than or equal to zero \n",
    "\n",
    "Suffixes:\n",
    "* ~ols -- OLS estimation naive model\n",
    "* ~ols.os -- OLS estimation overspecified model\n",
    "* ~ds -- DS estimation naive model\n",
    "* ~ds.os -- DS estimation overspecified model"
   ]
  },
  {
   "cell_type": "code",
   "execution_count": 15,
   "metadata": {},
   "outputs": [],
   "source": [
    "betahat.ols <- matrix(NA,nrow=n.sims,ncol=3)\n",
    "betahat.ds <- matrix(NA,nrow=n.sims,ncol=1)\n",
    "betahat.ols.os <- matrix(NA,nrow=n.sims,ncol=3)\n",
    "betahat.ds.os <- matrix(NA,nrow=n.sims,ncol=1)\n",
    "type1.ols <- matrix(NA,nrow=n.sims,ncol=1)\n",
    "type1.ds <- matrix(NA,nrow=n.sims,ncol=1)\n",
    "type1.ols.os <- matrix(NA,nrow=n.sims,ncol=1)\n",
    "type1.ds.os <- matrix(NA,nrow=n.sims,ncol=1)\n",
    "type2.ols <- matrix(NA,nrow=n.sims,ncol=1)\n",
    "type2.ds <- matrix(NA,nrow=n.sims,ncol=1)\n",
    "type2.ols.os <- matrix(NA,nrow=n.sims,ncol=1)\n",
    "type2.ds.os <- matrix(NA,nrow=n.sims,ncol=1)\n"
   ]
  },
  {
   "cell_type": "markdown",
   "metadata": {},
   "source": [
    "##### Takes 15-20 minutes to run\n",
    "* Run the Monte Carlo experiment using previously described data generating process\n",
    "\n",
    "* Calculate type 1 and type 2 errors"
   ]
  },
  {
   "cell_type": "code",
   "execution_count": 16,
   "metadata": {},
   "outputs": [
    {
     "name": "stdout",
     "output_type": "stream",
     "text": [
      "[1] \"1 of 40\"\n",
      "[1] \"2 of 40\"\n",
      "[1] \"3 of 40\"\n",
      "[1] \"4 of 40\"\n",
      "[1] \"5 of 40\"\n",
      "[1] \"6 of 40\"\n",
      "[1] \"7 of 40\"\n",
      "[1] \"8 of 40\"\n",
      "[1] \"9 of 40\"\n",
      "[1] \"10 of 40\"\n",
      "[1] \"11 of 40\"\n",
      "[1] \"12 of 40\"\n",
      "[1] \"13 of 40\"\n",
      "[1] \"14 of 40\"\n",
      "[1] \"15 of 40\"\n",
      "[1] \"16 of 40\"\n",
      "[1] \"17 of 40\"\n",
      "[1] \"18 of 40\"\n",
      "[1] \"19 of 40\"\n",
      "[1] \"20 of 40\"\n",
      "[1] \"21 of 40\"\n",
      "[1] \"22 of 40\"\n",
      "[1] \"23 of 40\"\n",
      "[1] \"24 of 40\"\n",
      "[1] \"25 of 40\"\n",
      "[1] \"26 of 40\"\n",
      "[1] \"27 of 40\"\n",
      "[1] \"28 of 40\"\n",
      "[1] \"29 of 40\"\n",
      "[1] \"30 of 40\"\n",
      "[1] \"31 of 40\"\n",
      "[1] \"32 of 40\"\n",
      "[1] \"33 of 40\"\n",
      "[1] \"34 of 40\"\n",
      "[1] \"35 of 40\"\n",
      "[1] \"36 of 40\"\n",
      "[1] \"37 of 40\"\n",
      "[1] \"38 of 40\"\n",
      "[1] \"39 of 40\"\n",
      "[1] \"40 of 40\"\n",
      "[1] \"type 1 error naive OLS rate = 0.425\"\n",
      "[1] \"type 1 error naive DS rate = 0.45\"\n",
      "[1] \"type 1 error overspecified OLS rate = 0.45\"\n",
      "[1] \"type 1 error overspecified DS rate = 0.45\"\n",
      "[1] \"type 2 error naive OLS rate = 0.9\"\n",
      "[1] \"type 2 error naive DS rate = 0.875\"\n",
      "[1] \"type 2 error overspecified OLS rate = 0.975\"\n",
      "[1] \"type 2 error overspecified DS rate = 0.4\"\n"
     ]
    }
   ],
   "source": [
    "\n",
    "for(j in 1:n.sims){\n",
    "# Create data  \n",
    "  x <- matrix(runif(N*50), nrow = N, ncol = 50)\n",
    "  Treatment<-sample(rep(0:1,N/2))\n",
    "  polyx<-cbind(x^2,x^3)\n",
    "  nvar<-20\n",
    "    quants<-5\n",
    "    dumx<-matrix(nrow=N,ncol=5*nvar)\n",
    "  for(i in 1:nvar){\n",
    "    indx<- factor(as.numeric(cut2(x[,i], g=quants)))\n",
    "    dumx[,((quants*i)-(quants-1)):(quants*i)]<-model.matrix(~indx-1)\n",
    "  }\n",
    "# Create y    \n",
    "  y <- Treatment+x[,1] * 2+ x[,2] * 2.5 + 600*x[,3]-20*x[,3]^2-20*x[,3]^3+\n",
    "                #3*exp(x[,4]+x[,10])+2*log(x[,6]+x[,10]+100)+ \n",
    "                600*x[,7]^2+30*x[,8]^2- 20*x[,8]^3+\n",
    "                300*dumx[,(quants*5)]+90*dumx[,(quants*5)+1]+30*dumx[,(quants*5)+2]+\n",
    "                100*dumx[,(quants*8)+1]+50*dumx[,(quants*8)+2]+70*dumx[,(quants*8)+3]+\n",
    "                10*dumx[,(quants*9)]+60*dumx[,(quants*9)+3]-6*dumx[,(quants*9)+5]+\n",
    "                rnorm(N)\n",
    "#### Estimating true relationships\n",
    "# Estimate naive OLS  \n",
    "  fit.lm <- lm(y~Treatment+x)\n",
    "  summary(fit.lm)\n",
    "  \n",
    "  b<-coef(summary(fit.lm))[,\"Estimate\"][2]\n",
    "  s<-coef(summary(fit.lm))[,\"Std. Error\"][2]\n",
    "  p<-coef(summary(fit.lm))[,\"Pr(>|t|)\"][2]\n",
    "   \n",
    "  t<-(b-1)/(s/sqrt(N))\n",
    "# Store relavant statistics\n",
    "  betahat.ols[j,]<-b\n",
    "  \n",
    "  if(t>1.96){\n",
    "    type1.ols[j,1]<-1\n",
    "  }\n",
    "  else{\n",
    "    type1.ols[j,1]<-0\n",
    "  }\n",
    "  \n",
    "  if(b<0 | p>.05){\n",
    "    type2.ols[j,1]<-1\n",
    "  }\n",
    "  else{\n",
    "    type2.ols[j,1]<-0\n",
    "  }\n",
    "\n",
    "# Estimate naive DS  \n",
    "  fit.ds <- rlassoEffect(x, y, Treatment, method = \"double selection\")\n",
    "  summary(fit.ds)\n",
    "  \n",
    "  b.ds<-coef(summary(fit.ds))[,\"Estimate.\"][1]\n",
    "  s.ds<-coef(summary(fit.ds))[,\"Std. Error\"][1]\n",
    "  p.ds<-coef(summary(fit.ds))[,\"Pr(>|t|)\"][1]\n",
    "  \n",
    "  t.ds<-(b.ds-1)/(s.ds/sqrt(N))\n",
    "# Store relavant statistics  \n",
    "  betahat.ds[j,]<-b.ds\n",
    "  \n",
    "  if(t.ds>1.96){\n",
    "    type1.ds[j,1]<-1\n",
    "  }\n",
    "  else{\n",
    "    type1.ds[j,1]<-0\n",
    "  }\n",
    "  if(b.ds<0 | p.ds>.05){\n",
    "    type2.ds[j,1]<-1\n",
    "  }\n",
    "  else{\n",
    "    type2.ds[j,1]<-0\n",
    "  }\n",
    " \n",
    "## Overspecify\n",
    "# Estimate overspecified OLS \n",
    "  fit.lm.os <- lm(y~Treatment+x+dumx)\n",
    "  summary(fit.lm.os)\n",
    "  \n",
    "  \n",
    "  b.os<-coef(summary(fit.lm.os))[,\"Estimate\"][2]\n",
    "  s.os<-coef(summary(fit.lm.os))[,\"Std. Error\"][2]\n",
    "  p.os<-coef(summary(fit.lm.os))[,\"Pr(>|t|)\"][2]\n",
    "  \n",
    "  t.os<-(b.os-1)/(s.os/sqrt(N))\n",
    "# Store relavant statistics  \n",
    "  betahat.ols.os[j,]<-b.os\n",
    "  \n",
    "  if(t.os>1.96){\n",
    "    type1.ols.os[j,1]<-1\n",
    "  }\n",
    "  else{\n",
    "    type1.ols.os[j,1]<-0\n",
    "  }\n",
    "  \n",
    "  if(b.os<0 | p.os>.05){\n",
    "    type2.ols.os[j,1]<-1\n",
    "  }\n",
    "  else{\n",
    "    type2.ols.os[j,1]<-0\n",
    "  }\n",
    "\n",
    "# Estimate overspecified DS\n",
    "  xds<-cbind(x,dumx,polyx)\n",
    "  \n",
    "  fit.ds.os <- rlassoEffect(xds, y, Treatment, method = \"double selection\")\n",
    "  summary(fit.ds.os)\n",
    "  \n",
    "  b.ds.os<-coef(summary(fit.ds.os))[,\"Estimate.\"][1]\n",
    "  s.ds.os<-coef(summary(fit.ds.os))[,\"Std. Error\"][1]\n",
    "  p.ds.os<-coef(summary(fit.ds.os))[,\"Pr(>|t|)\"][1]\n",
    "  \n",
    "  t.ds.os<-(b.ds.os-1)/(s.ds.os/sqrt(N))\n",
    "# Store relavant statistics  \n",
    "  betahat.ds.os[j,]<-b.ds.os\n",
    "  \n",
    "  if(t.ds.os>1.96){\n",
    "    type1.ds.os[j,1]<-1\n",
    "  }\n",
    "  else{\n",
    "    type1.ds.os[j,1]<-0\n",
    "  }\n",
    "  \n",
    "  if(b.ds.os<0 | p.ds.os>.05){\n",
    "    type2.ds.os[j,1]<-1\n",
    "  }\n",
    "  else{\n",
    "    type2.ds.os[j,1]<-0\n",
    "  }\n",
    "  print(paste0(j, ' of ',n.sims))\n",
    "}\n",
    "\n",
    "# Print type 1 and type 2 errors\n",
    "print(paste0('type 1 error naive OLS rate = ',colMeans(type1.ols)))\n",
    "print(paste0('type 1 error naive DS rate = ',colMeans(type1.ds)))\n",
    "print(paste0('type 1 error overspecified OLS rate = ',colMeans(type1.ols.os)))\n",
    "print(paste0('type 1 error overspecified DS rate = ',colMeans(type1.ds.os)))\n",
    "\n",
    "print(paste0('type 2 error naive OLS rate = ',colMeans(type2.ols)))\n",
    "print(paste0('type 2 error naive DS rate = ',colMeans(type2.ds)))\n",
    "print(paste0('type 2 error overspecified OLS rate = ',colMeans(type2.ols.os)))\n",
    "print(paste0('type 2 error overspecified DS rate = ',colMeans(type2.ds.os)))\n",
    "\n"
   ]
  },
  {
   "cell_type": "markdown",
   "metadata": {
    "collapsed": true
   },
   "source": [
    "Save density plots of coefficients"
   ]
  },
  {
   "cell_type": "code",
   "execution_count": 17,
   "metadata": {},
   "outputs": [
    {
     "name": "stderr",
     "output_type": "stream",
     "text": [
      "Warning message in png(filename = paste(file.path(path.expand(\"~\"), \"outputs/Lab6/\"), :\n",
      "\"unable to open file 'C:\\Users\\luoyec2\\Documents/outputs/Lab6 MisspecDS.png' for writing\"Warning message in png(filename = paste(file.path(path.expand(\"~\"), \"outputs/Lab6/\"), :\n",
      "\"opening device failed\""
     ]
    },
    {
     "ename": "ERROR",
     "evalue": "Error in png(filename = paste(file.path(path.expand(\"~\"), \"outputs/Lab6/\"), : unable to start png() device\n",
     "output_type": "error",
     "traceback": [
      "Error in png(filename = paste(file.path(path.expand(\"~\"), \"outputs/Lab6/\"), : unable to start png() device\nTraceback:\n",
      "1. png(filename = paste(file.path(path.expand(\"~\"), \"outputs/Lab6/\"), \n .     \"MisspecDS.png\"))"
     ]
    }
   ],
   "source": [
    "png(filename=paste(file.path(path.expand('~'),'outputs/Lab6/'),'MisspecDS.png'))\n",
    "\n",
    "plot (density(betahat.ds),col=\"red\",main = \"\",xlab=\"Treatment Coefficient Estimate (True = 1)\")\n",
    "title(main = \"Density Plot of naive Double Selection\")\n",
    "\n",
    "dev.off()\n",
    "\n",
    "png(filename=paste(file.path(path.expand('~'),'outputs/Lab6/'),'MisspecOLS.png'))\n",
    "\n",
    "plot (density(betahat.ols),col=\"red\",main = \"\",xlab=\"Treatment Coefficient Estimate (True = 1)\")\n",
    "title(main = \"Density Plot of naive OLS\")\n",
    "\n",
    "dev.off()\n",
    "\n",
    "\n",
    "png(filename=paste(file.path(path.expand('~'),'outputs/Lab6/'),'MisspecDSos.png'))\n",
    "\n",
    "plot (density(betahat.ds.os),col=\"red\",main = \"\",xlab=\"Treatment Coefficient Estimate (True = 1)\")\n",
    "title(main = \"Density Plot of overspecified Double Selection\")\n",
    "\n",
    "dev.off()\n",
    "\n",
    "png(filename=paste(file.path(path.expand('~'),'outputs/Lab6/'),'MisspecOLSos.png'))\n",
    "\n",
    "plot (density(betahat.ols.os),col=\"red\",main = \"\",xlab=\"Treatment Coefficient Estimate (True = 1)\")\n",
    "title(main = \"Density Plot of overspecified OLS\")\n",
    "\n",
    "dev.off()"
   ]
  },
  {
   "cell_type": "markdown",
   "metadata": {
    "collapsed": true
   },
   "source": [
    "### Question 1\n",
    "\n",
    "Which the four methods has the best distribution? Why? What assumptions of OLS and DS are violated in the naive models? \n",
    "\n",
    "**Overspecified DS has the best performance. LASSO algorithm can shrink the variables; therefore the overspecification will not harm the LASSO selection procedure. The double selection algorithm can keep the most important variables in the post-selection procedure. **\n",
    "\n",
    "### Question 2\n",
    "\n",
    "Why does the overspecified OLS have a lower type 1 error rate? \n",
    "\n",
    "**Type 1 error is the error of rejecting a true null hypothesis. The overspecification OLS includes as many variables as possible after shrinkage procedure. **\n",
    "\n",
    "### Question 3\n",
    "\n",
    "The type 2 error rate is calculated incorrectly. Describe how would you correct it? \n",
    "\n",
    "**Type 2 error is the error of non-rejection of a false null hypothesis. **\n",
    "\n",
    "### Question 4\n",
    "\n",
    "Create a correlation between the Treatment and the independent variables. How does this change the OLS and DS coefficents? What other methods can be used to deal with this specification?\n",
    "\n",
    "**DS can adjust that by two-stage method.**"
   ]
  },
  {
   "cell_type": "markdown",
   "metadata": {
    "collapsed": true
   },
   "source": [
    "### Question 5"
   ]
  },
  {
   "cell_type": "markdown",
   "metadata": {},
   "source": [
    "Change the model or data generating process so that an assumption of double selection is violated. How does this affect the ability of the model to draw valid inference?"
   ]
  },
  {
   "cell_type": "code",
   "execution_count": null,
   "metadata": {},
   "outputs": [],
   "source": []
  }
 ],
 "metadata": {
  "kernelspec": {
   "display_name": "R",
   "language": "R",
   "name": "ir"
  },
  "language_info": {
   "codemirror_mode": "r",
   "file_extension": ".r",
   "mimetype": "text/x-r-source",
   "name": "R",
   "pygments_lexer": "r",
   "version": "3.6.1"
  }
 },
 "nbformat": 4,
 "nbformat_minor": 2
}
