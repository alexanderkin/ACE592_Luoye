{
 "cells": [
  {
   "cell_type": "markdown",
   "metadata": {
    "collapsed": true
   },
   "source": [
    "# Lab 4: Submitting Code on Supercomputer in R\n",
    "\n",
    "### Objective:\n",
    "Learn how to run R in parallel on a Supercomputer. Note: The data used in this lab is provided as part of a restricted access data agreement and cannot be used under any circumstances outside this lab. If you are interested in further analysis with this dataset outside of this exercise, you MUST obtain the explicit consent of Professor Christensen.\n",
    "\n",
    "### Successful outcome:\n",
    "Not only be able to write a parallel R script in foreach, but also be able to write PBS and Bash scripts to submit jobs through the terminal.\n",
    "\n",
    "Remember to shut down your server when you are done by clicking Control Panel -> Shut Down Server"
   ]
  },
  {
   "cell_type": "markdown",
   "metadata": {},
   "source": [
    "## Step 1: Preliminaries:\n",
    "\n",
    "This is a very important first step, many people who did not finish this step may mess up multiple scripts and dependencies. This may cause other people to be unable to re-produce the outputs of this lab."
   ]
  },
  {
   "cell_type": "code",
   "execution_count": 1,
   "metadata": {},
   "outputs": [
    {
     "name": "stderr",
     "output_type": "stream",
     "text": [
      "Loading required package: readxl\n",
      "Loading required package: data.table\n",
      "Loading required package: ggmap\n",
      "Warning message in library(package, lib.loc = lib.loc, character.only = TRUE, logical.return = TRUE, :\n",
      "\"there is no package called 'ggmap'\"Installing package into 'C:/Users/luoyec2/Documents/R/win-library/3.6'\n",
      "(as 'lib' is unspecified)\n",
      "also installing the dependencies 'RgoogleMaps', 'rjson', 'jpeg'\n",
      "\n"
     ]
    },
    {
     "name": "stdout",
     "output_type": "stream",
     "text": [
      "package 'RgoogleMaps' successfully unpacked and MD5 sums checked\n",
      "package 'rjson' successfully unpacked and MD5 sums checked\n",
      "package 'jpeg' successfully unpacked and MD5 sums checked\n",
      "package 'ggmap' successfully unpacked and MD5 sums checked\n",
      "\n",
      "The downloaded binary packages are in\n",
      "\tC:\\Users\\luoyec2\\AppData\\Local\\Temp\\RtmpmSbXxj\\downloaded_packages\n"
     ]
    },
    {
     "name": "stderr",
     "output_type": "stream",
     "text": [
      "Loading required package: ggmap\n",
      "Loading required package: ggplot2\n",
      "Google's Terms of Service: https://cloud.google.com/maps-platform/terms/.\n",
      "Please cite ggmap if you use it! See citation(\"ggmap\") for details.\n"
     ]
    },
    {
     "data": {
      "text/html": [
       "<ol>\n",
       "\t<li>NULL</li>\n",
       "\t<li>NULL</li>\n",
       "\t<li>NULL</li>\n",
       "\t<li>NULL</li>\n",
       "</ol>\n"
      ],
      "text/latex": [
       "\\begin{enumerate}\n",
       "\\item NULL\n",
       "\\item NULL\n",
       "\\item NULL\n",
       "\\item NULL\n",
       "\\end{enumerate}\n"
      ],
      "text/markdown": [
       "1. NULL\n",
       "2. NULL\n",
       "3. NULL\n",
       "4. NULL\n",
       "\n",
       "\n"
      ],
      "text/plain": [
       "[[1]]\n",
       "NULL\n",
       "\n",
       "[[2]]\n",
       "NULL\n",
       "\n",
       "[[3]]\n",
       "NULL\n",
       "\n",
       "[[4]]\n",
       "NULL\n"
      ]
     },
     "metadata": {},
     "output_type": "display_data"
    }
   ],
   "source": [
    "## clean the workspace's current variables\n",
    "rm(list=ls())\n",
    "\n",
    "## This function will check if a package is installed, and if not, install it\n",
    "pkgTest <- function(x) {\n",
    "  if (!require(x, character.only = TRUE))\n",
    "  {\n",
    "    install.packages(x, dep = TRUE)\n",
    "    if(!require(x, character.only = TRUE)) stop(\"Package not found\")\n",
    "  }\n",
    "}\n",
    "\n",
    "## These lines load the required packages using 'pkgTest' function\n",
    "packages <- c(\"readxl\", \"data.table\", \"ggmap\", \"ggplot2\")\n",
    "lapply(packages, pkgTest)\n",
    "    \n",
    "## the output should be multiple \"NULL\"s"
   ]
  },
  {
   "cell_type": "code",
   "execution_count": 2,
   "metadata": {},
   "outputs": [
    {
     "data": {
      "text/html": [
       "'C:/Users/luoyec2/Documents/GitHub/ACE592_Luoye/Lab4_Done'"
      ],
      "text/latex": [
       "'C:/Users/luoyec2/Documents/GitHub/ACE592\\_Luoye/Lab4\\_Done'"
      ],
      "text/markdown": [
       "'C:/Users/luoyec2/Documents/GitHub/ACE592_Luoye/Lab4_Done'"
      ],
      "text/plain": [
       "[1] \"C:/Users/luoyec2/Documents/GitHub/ACE592_Luoye/Lab4_Done\""
      ]
     },
     "metadata": {},
     "output_type": "display_data"
    }
   ],
   "source": [
    "## find the current working directory\n",
    "getwd()"
   ]
  },
  {
   "cell_type": "markdown",
   "metadata": {},
   "source": [
    "## Step 2: Preprocessing\n",
    "\n",
    "#### Main Goal: \n",
    "1. Read in datasets and the required files\n",
    "2. Create new variables for modeling\n",
    "\n",
    "The data that will be used in this lab come from daily listings in Airbnb.  There are two files -- one file contains property characteristics and the other contains daily bookings information.  In the pre-processing stage, you may need to remove NAs, change the data from \"character\" to \"factor\" or otherwise. Sometimes, you may need to create a new field for modeling. For example, you may need to change dates from daily into a quarterly aggregate.  In this case, we will generate a number of fields that will be used to construct a measure of aggregate daily revenue and potential revenue for each market (City) in the United States. "
   ]
  },
  {
   "cell_type": "code",
   "execution_count": 3,
   "metadata": {},
   "outputs": [
    {
     "name": "stdout",
     "output_type": "stream",
     "text": [
      "[1] 100000000\n"
     ]
    }
   ],
   "source": [
    "## Read the input files under the current working directory\n",
    "US_P <- readRDS(\"United_States_Property.rds\")\n",
    "US_D <- readRDS(\"United_States_Daily.rds\")\n",
    "print(nrow(US_D))"
   ]
  },
  {
   "cell_type": "code",
   "execution_count": 4,
   "metadata": {},
   "outputs": [
    {
     "data": {
      "text/html": [
       "<table>\n",
       "<thead><tr><th scope=col>Property.ID</th><th scope=col>Host.ID</th><th scope=col>Listing.Title</th><th scope=col>Property.Type</th><th scope=col>Listing.Type</th><th scope=col>Created.Date</th><th scope=col>Last.Scraped.Date</th><th scope=col>Country</th><th scope=col>State</th><th scope=col>City</th><th scope=col>...</th><th scope=col>Count.Reservation.Days.LTM</th><th scope=col>Count.Available.Days.LTM</th><th scope=col>Count.Blocked.Days.LTM</th><th scope=col>Number.of.Photos</th><th scope=col>Business.Ready</th><th scope=col>Instantbook.Enabled</th><th scope=col>Listing.URL</th><th scope=col>Listing.Main.Image.URL</th><th scope=col>Latitude</th><th scope=col>Longitude</th></tr></thead>\n",
       "<tbody>\n",
       "\t<tr><td>87601                                                                                </td><td> 68654                                                                               </td><td>Eugene Get-Away (Sun Room)                                                           </td><td>House                                                                                </td><td>Private room                                                                         </td><td>2017-03-16                                                                           </td><td>2017-05-31                                                                           </td><td>United States                                                                        </td><td>Oregon                                                                               </td><td>Eugene                                                                               </td><td>...                                                                                  </td><td> 17                                                                                  </td><td>  0                                                                                  </td><td> 13                                                                                  </td><td>13                                                                                   </td><td>False                                                                                </td><td>No                                                                                   </td><td>https://www.airbnb.com/rooms/87601                                                   </td><td>https://a0.muscache.com/im/pictures/1868780/1bdccf9f_original.jpg?aki_policy=x_large </td><td>44.00863                                                                             </td><td>-123.19604                                                                           </td></tr>\n",
       "\t<tr><td>26012                                                                                </td><td>109589                                                                               </td><td>Sunny 2-story townhouse w garden                                                     </td><td>House                                                                                </td><td>Entire home/apt                                                                      </td><td>2010-04-15                                                                           </td><td>2017-06-02                                                                           </td><td>United States                                                                        </td><td>New York                                                                             </td><td>New York                                                                             </td><td>...                                                                                  </td><td>100                                                                                  </td><td>  5                                                                                  </td><td>260                                                                                  </td><td>31                                                                                   </td><td>True                                                                                 </td><td>No                                                                                   </td><td>https://www.airbnb.com/rooms/26012                                                   </td><td>https://a0.muscache.com/im/pictures/68664532/f74dd09e_original.jpg?aki_policy=x_large</td><td>40.68157                                                                             </td><td> -73.98989                                                                           </td></tr>\n",
       "\t<tr><td>82963                                                                                </td><td>451748                                                                               </td><td>Palm Desert Oasis                                                                    </td><td>House                                                                                </td><td>Entire home/apt                                                                      </td><td>2011-03-18                                                                           </td><td>2017-06-01                                                                           </td><td>United States                                                                        </td><td>California                                                                           </td><td>Palm Desert                                                                          </td><td>...                                                                                  </td><td>  3                                                                                  </td><td> 27                                                                                  </td><td>  0                                                                                  </td><td>36                                                                                   </td><td>False                                                                                </td><td>No                                                                                   </td><td>https://www.airbnb.com/rooms/82963                                                   </td><td>https://a0.muscache.com/im/pictures/70531770/3eb2f137_original.jpg?aki_policy=x_large</td><td>33.71463                                                                             </td><td>-116.37367                                                                           </td></tr>\n",
       "\t<tr><td>23472                                                                                </td><td> 91808                                                                               </td><td>Cozy Cottage                                                                         </td><td>Cabin                                                                                </td><td>Entire home/apt                                                                      </td><td>2010-03-12                                                                           </td><td>2017-05-30                                                                           </td><td>United States                                                                        </td><td>Wisconsin                                                                            </td><td>Verona                                                                               </td><td>...                                                                                  </td><td> 47                                                                                  </td><td>286                                                                                  </td><td>  1                                                                                  </td><td>10                                                                                   </td><td>False                                                                                </td><td>No                                                                                   </td><td>https://www.airbnb.com/rooms/23472                                                   </td><td>https://a0.muscache.com/im/pictures/123650/2df7b8c1_original.jpg?aki_policy=x_large  </td><td>43.03177                                                                             </td><td> -89.62797                                                                           </td></tr>\n",
       "\t<tr><td>44020                                                                                </td><td>101521                                                                               </td><td>2 Bedroom 1 Block to Fullerton L                                                     </td><td>Apartment                                                                            </td><td>Entire home/apt                                                                      </td><td>2010-08-07                                                                           </td><td>2017-06-01                                                                           </td><td>United States                                                                        </td><td>Illinois                                                                             </td><td>Chicago                                                                              </td><td>...                                                                                  </td><td> 65                                                                                  </td><td>128                                                                                  </td><td> 17                                                                                  </td><td>18                                                                                   </td><td>False                                                                                </td><td>No                                                                                   </td><td>https://www.airbnb.com/rooms/44020                                                   </td><td>https://a0.muscache.com/im/pictures/730606/d0ff831f_original.jpg?aki_policy=x_large  </td><td>41.92673                                                                             </td><td> -87.65731                                                                           </td></tr>\n",
       "\t<tr><td>94059                                                                                </td><td>486032                                                                               </td><td><span style=white-space:pre-wrap>\"Psycho\"- Sigmund Freud Suite   </span>             </td><td>Bed &amp; Breakfast                                                                  </td><td>Entire home/apt                                                                      </td><td>2011-04-11                                                                           </td><td>2017-06-01                                                                           </td><td>United States                                                                        </td><td>Massachusetts                                                                        </td><td>Southbridge                                                                          </td><td>...                                                                                  </td><td> 34                                                                                  </td><td>172                                                                                  </td><td><span style=white-space:pre-wrap>  8</span>                                          </td><td>35                                                                                   </td><td>False                                                                                </td><td>No                                                                                   </td><td>https://www.airbnb.com/rooms/94059                                                   </td><td>https://a0.muscache.com/im/pictures/6978898/adb70aab_original.jpg?aki_policy=x_large </td><td>42.07687                                                                             </td><td> -72.03798                                                                           </td></tr>\n",
       "</tbody>\n",
       "</table>\n"
      ],
      "text/latex": [
       "\\begin{tabular}{r|llllllllllllllllllllllllllllllllllllllllllllll}\n",
       " Property.ID & Host.ID & Listing.Title & Property.Type & Listing.Type & Created.Date & Last.Scraped.Date & Country & State & City & ... & Count.Reservation.Days.LTM & Count.Available.Days.LTM & Count.Blocked.Days.LTM & Number.of.Photos & Business.Ready & Instantbook.Enabled & Listing.URL & Listing.Main.Image.URL & Latitude & Longitude\\\\\n",
       "\\hline\n",
       "\t 87601                                                                                       &  68654                                                                                      & Eugene Get-Away (Sun Room)                                                                  & House                                                                                       & Private room                                                                                & 2017-03-16                                                                                  & 2017-05-31                                                                                  & United States                                                                               & Oregon                                                                                      & Eugene                                                                                      & ...                                                                                         &  17                                                                                         &   0                                                                                         &  13                                                                                         & 13                                                                                          & False                                                                                       & No                                                                                          & https://www.airbnb.com/rooms/87601                                                          & https://a0.muscache.com/im/pictures/1868780/1bdccf9f\\_original.jpg?aki\\_policy=x\\_large  & 44.00863                                                                                    & -123.19604                                                                                 \\\\\n",
       "\t 26012                                                                                       & 109589                                                                                      & Sunny 2-story townhouse w garden                                                            & House                                                                                       & Entire home/apt                                                                             & 2010-04-15                                                                                  & 2017-06-02                                                                                  & United States                                                                               & New York                                                                                    & New York                                                                                    & ...                                                                                         & 100                                                                                         &   5                                                                                         & 260                                                                                         & 31                                                                                          & True                                                                                        & No                                                                                          & https://www.airbnb.com/rooms/26012                                                          & https://a0.muscache.com/im/pictures/68664532/f74dd09e\\_original.jpg?aki\\_policy=x\\_large & 40.68157                                                                                    &  -73.98989                                                                                 \\\\\n",
       "\t 82963                                                                                       & 451748                                                                                      & Palm Desert Oasis                                                                           & House                                                                                       & Entire home/apt                                                                             & 2011-03-18                                                                                  & 2017-06-01                                                                                  & United States                                                                               & California                                                                                  & Palm Desert                                                                                 & ...                                                                                         &   3                                                                                         &  27                                                                                         &   0                                                                                         & 36                                                                                          & False                                                                                       & No                                                                                          & https://www.airbnb.com/rooms/82963                                                          & https://a0.muscache.com/im/pictures/70531770/3eb2f137\\_original.jpg?aki\\_policy=x\\_large & 33.71463                                                                                    & -116.37367                                                                                 \\\\\n",
       "\t 23472                                                                                       &  91808                                                                                      & Cozy Cottage                                                                                & Cabin                                                                                       & Entire home/apt                                                                             & 2010-03-12                                                                                  & 2017-05-30                                                                                  & United States                                                                               & Wisconsin                                                                                   & Verona                                                                                      & ...                                                                                         &  47                                                                                         & 286                                                                                         &   1                                                                                         & 10                                                                                          & False                                                                                       & No                                                                                          & https://www.airbnb.com/rooms/23472                                                          & https://a0.muscache.com/im/pictures/123650/2df7b8c1\\_original.jpg?aki\\_policy=x\\_large   & 43.03177                                                                                    &  -89.62797                                                                                 \\\\\n",
       "\t 44020                                                                                       & 101521                                                                                      & 2 Bedroom 1 Block to Fullerton L                                                            & Apartment                                                                                   & Entire home/apt                                                                             & 2010-08-07                                                                                  & 2017-06-01                                                                                  & United States                                                                               & Illinois                                                                                    & Chicago                                                                                     & ...                                                                                         &  65                                                                                         & 128                                                                                         &  17                                                                                         & 18                                                                                          & False                                                                                       & No                                                                                          & https://www.airbnb.com/rooms/44020                                                          & https://a0.muscache.com/im/pictures/730606/d0ff831f\\_original.jpg?aki\\_policy=x\\_large   & 41.92673                                                                                    &  -87.65731                                                                                 \\\\\n",
       "\t 94059                                                                                       & 486032                                                                                      & \"Psycho\"- Sigmund Freud Suite                                                               & Bed \\& Breakfast                                                                           & Entire home/apt                                                                             & 2011-04-11                                                                                  & 2017-06-01                                                                                  & United States                                                                               & Massachusetts                                                                               & Southbridge                                                                                 & ...                                                                                         &  34                                                                                         & 172                                                                                         &   8                                                                                         & 35                                                                                          & False                                                                                       & No                                                                                          & https://www.airbnb.com/rooms/94059                                                          & https://a0.muscache.com/im/pictures/6978898/adb70aab\\_original.jpg?aki\\_policy=x\\_large  & 42.07687                                                                                    &  -72.03798                                                                                 \\\\\n",
       "\\end{tabular}\n"
      ],
      "text/markdown": [
       "\n",
       "| Property.ID | Host.ID | Listing.Title | Property.Type | Listing.Type | Created.Date | Last.Scraped.Date | Country | State | City | ... | Count.Reservation.Days.LTM | Count.Available.Days.LTM | Count.Blocked.Days.LTM | Number.of.Photos | Business.Ready | Instantbook.Enabled | Listing.URL | Listing.Main.Image.URL | Latitude | Longitude |\n",
       "|---|---|---|---|---|---|---|---|---|---|---|---|---|---|---|---|---|---|---|---|---|\n",
       "| 87601                                                                                 |  68654                                                                                | Eugene Get-Away (Sun Room)                                                            | House                                                                                 | Private room                                                                          | 2017-03-16                                                                            | 2017-05-31                                                                            | United States                                                                         | Oregon                                                                                | Eugene                                                                                | ...                                                                                   |  17                                                                                   |   0                                                                                   |  13                                                                                   | 13                                                                                    | False                                                                                 | No                                                                                    | https://www.airbnb.com/rooms/87601                                                    | https://a0.muscache.com/im/pictures/1868780/1bdccf9f_original.jpg?aki_policy=x_large  | 44.00863                                                                              | -123.19604                                                                            |\n",
       "| 26012                                                                                 | 109589                                                                                | Sunny 2-story townhouse w garden                                                      | House                                                                                 | Entire home/apt                                                                       | 2010-04-15                                                                            | 2017-06-02                                                                            | United States                                                                         | New York                                                                              | New York                                                                              | ...                                                                                   | 100                                                                                   |   5                                                                                   | 260                                                                                   | 31                                                                                    | True                                                                                  | No                                                                                    | https://www.airbnb.com/rooms/26012                                                    | https://a0.muscache.com/im/pictures/68664532/f74dd09e_original.jpg?aki_policy=x_large | 40.68157                                                                              |  -73.98989                                                                            |\n",
       "| 82963                                                                                 | 451748                                                                                | Palm Desert Oasis                                                                     | House                                                                                 | Entire home/apt                                                                       | 2011-03-18                                                                            | 2017-06-01                                                                            | United States                                                                         | California                                                                            | Palm Desert                                                                           | ...                                                                                   |   3                                                                                   |  27                                                                                   |   0                                                                                   | 36                                                                                    | False                                                                                 | No                                                                                    | https://www.airbnb.com/rooms/82963                                                    | https://a0.muscache.com/im/pictures/70531770/3eb2f137_original.jpg?aki_policy=x_large | 33.71463                                                                              | -116.37367                                                                            |\n",
       "| 23472                                                                                 |  91808                                                                                | Cozy Cottage                                                                          | Cabin                                                                                 | Entire home/apt                                                                       | 2010-03-12                                                                            | 2017-05-30                                                                            | United States                                                                         | Wisconsin                                                                             | Verona                                                                                | ...                                                                                   |  47                                                                                   | 286                                                                                   |   1                                                                                   | 10                                                                                    | False                                                                                 | No                                                                                    | https://www.airbnb.com/rooms/23472                                                    | https://a0.muscache.com/im/pictures/123650/2df7b8c1_original.jpg?aki_policy=x_large   | 43.03177                                                                              |  -89.62797                                                                            |\n",
       "| 44020                                                                                 | 101521                                                                                | 2 Bedroom 1 Block to Fullerton L                                                      | Apartment                                                                             | Entire home/apt                                                                       | 2010-08-07                                                                            | 2017-06-01                                                                            | United States                                                                         | Illinois                                                                              | Chicago                                                                               | ...                                                                                   |  65                                                                                   | 128                                                                                   |  17                                                                                   | 18                                                                                    | False                                                                                 | No                                                                                    | https://www.airbnb.com/rooms/44020                                                    | https://a0.muscache.com/im/pictures/730606/d0ff831f_original.jpg?aki_policy=x_large   | 41.92673                                                                              |  -87.65731                                                                            |\n",
       "| 94059                                                                                 | 486032                                                                                | \"Psycho\"- Sigmund Freud Suite                                                         | Bed & Breakfast                                                                       | Entire home/apt                                                                       | 2011-04-11                                                                            | 2017-06-01                                                                            | United States                                                                         | Massachusetts                                                                         | Southbridge                                                                           | ...                                                                                   |  34                                                                                   | 172                                                                                   |   8                                                                                   | 35                                                                                    | False                                                                                 | No                                                                                    | https://www.airbnb.com/rooms/94059                                                    | https://a0.muscache.com/im/pictures/6978898/adb70aab_original.jpg?aki_policy=x_large  | 42.07687                                                                              |  -72.03798                                                                            |\n",
       "\n"
      ],
      "text/plain": [
       "  Property.ID Host.ID Listing.Title                    Property.Type  \n",
       "1 87601        68654  Eugene Get-Away (Sun Room)       House          \n",
       "2 26012       109589  Sunny 2-story townhouse w garden House          \n",
       "3 82963       451748  Palm Desert Oasis                House          \n",
       "4 23472        91808  Cozy Cottage                     Cabin          \n",
       "5 44020       101521  2 Bedroom 1 Block to Fullerton L Apartment      \n",
       "6 94059       486032  \"Psycho\"- Sigmund Freud Suite    Bed & Breakfast\n",
       "  Listing.Type    Created.Date Last.Scraped.Date Country       State        \n",
       "1 Private room    2017-03-16   2017-05-31        United States Oregon       \n",
       "2 Entire home/apt 2010-04-15   2017-06-02        United States New York     \n",
       "3 Entire home/apt 2011-03-18   2017-06-01        United States California   \n",
       "4 Entire home/apt 2010-03-12   2017-05-30        United States Wisconsin    \n",
       "5 Entire home/apt 2010-08-07   2017-06-01        United States Illinois     \n",
       "6 Entire home/apt 2011-04-11   2017-06-01        United States Massachusetts\n",
       "  City        ... Count.Reservation.Days.LTM Count.Available.Days.LTM\n",
       "1 Eugene      ...  17                          0                     \n",
       "2 New York    ... 100                          5                     \n",
       "3 Palm Desert ...   3                         27                     \n",
       "4 Verona      ...  47                        286                     \n",
       "5 Chicago     ...  65                        128                     \n",
       "6 Southbridge ...  34                        172                     \n",
       "  Count.Blocked.Days.LTM Number.of.Photos Business.Ready Instantbook.Enabled\n",
       "1  13                    13               False          No                 \n",
       "2 260                    31               True           No                 \n",
       "3   0                    36               False          No                 \n",
       "4   1                    10               False          No                 \n",
       "5  17                    18               False          No                 \n",
       "6   8                    35               False          No                 \n",
       "  Listing.URL                       \n",
       "1 https://www.airbnb.com/rooms/87601\n",
       "2 https://www.airbnb.com/rooms/26012\n",
       "3 https://www.airbnb.com/rooms/82963\n",
       "4 https://www.airbnb.com/rooms/23472\n",
       "5 https://www.airbnb.com/rooms/44020\n",
       "6 https://www.airbnb.com/rooms/94059\n",
       "  Listing.Main.Image.URL                                                               \n",
       "1 https://a0.muscache.com/im/pictures/1868780/1bdccf9f_original.jpg?aki_policy=x_large \n",
       "2 https://a0.muscache.com/im/pictures/68664532/f74dd09e_original.jpg?aki_policy=x_large\n",
       "3 https://a0.muscache.com/im/pictures/70531770/3eb2f137_original.jpg?aki_policy=x_large\n",
       "4 https://a0.muscache.com/im/pictures/123650/2df7b8c1_original.jpg?aki_policy=x_large  \n",
       "5 https://a0.muscache.com/im/pictures/730606/d0ff831f_original.jpg?aki_policy=x_large  \n",
       "6 https://a0.muscache.com/im/pictures/6978898/adb70aab_original.jpg?aki_policy=x_large \n",
       "  Latitude Longitude \n",
       "1 44.00863 -123.19604\n",
       "2 40.68157  -73.98989\n",
       "3 33.71463 -116.37367\n",
       "4 43.03177  -89.62797\n",
       "5 41.92673  -87.65731\n",
       "6 42.07687  -72.03798"
      ]
     },
     "metadata": {},
     "output_type": "display_data"
    }
   ],
   "source": [
    "## Now we can examine the US Properties Dataset by printing the first 5 elements.\n",
    "head(US_P)"
   ]
  },
  {
   "cell_type": "code",
   "execution_count": 5,
   "metadata": {},
   "outputs": [
    {
     "data": {
      "text/html": [
       "<table>\n",
       "<thead><tr><th></th><th scope=col>Property.ID</th><th scope=col>Date</th><th scope=col>Status</th><th scope=col>Price</th><th scope=col>Booked.Date</th><th scope=col>Reservation.ID</th></tr></thead>\n",
       "<tbody>\n",
       "\t<tr><th scope=row>14375954</th><td>  430340  </td><td>2015-09-15</td><td>A         </td><td>150       </td><td>          </td><td>NA        </td></tr>\n",
       "\t<tr><th scope=row>332654104</th><td>10596885  </td><td>2016-09-29</td><td>B         </td><td> 90       </td><td>          </td><td>NA        </td></tr>\n",
       "\t<tr><th scope=row>400641975</th><td>13315681  </td><td>2016-11-22</td><td>A         </td><td> 50       </td><td>          </td><td>NA        </td></tr>\n",
       "\t<tr><th scope=row>396729720</th><td>13183917  </td><td>2016-09-25</td><td>A         </td><td>180       </td><td>          </td><td>NA        </td></tr>\n",
       "\t<tr><th scope=row>348787386</th><td>11240038  </td><td>2016-12-20</td><td>A         </td><td>120       </td><td>          </td><td>NA        </td></tr>\n",
       "\t<tr><th scope=row>301907403</th><td> 9394013  </td><td>2015-11-08</td><td>A         </td><td>100       </td><td>          </td><td>NA        </td></tr>\n",
       "</tbody>\n",
       "</table>\n"
      ],
      "text/latex": [
       "\\begin{tabular}{r|llllll}\n",
       "  & Property.ID & Date & Status & Price & Booked.Date & Reservation.ID\\\\\n",
       "\\hline\n",
       "\t14375954 &   430340   & 2015-09-15 & A          & 150        &            & NA        \\\\\n",
       "\t332654104 & 10596885   & 2016-09-29 & B          &  90        &            & NA        \\\\\n",
       "\t400641975 & 13315681   & 2016-11-22 & A          &  50        &            & NA        \\\\\n",
       "\t396729720 & 13183917   & 2016-09-25 & A          & 180        &            & NA        \\\\\n",
       "\t348787386 & 11240038   & 2016-12-20 & A          & 120        &            & NA        \\\\\n",
       "\t301907403 &  9394013   & 2015-11-08 & A          & 100        &            & NA        \\\\\n",
       "\\end{tabular}\n"
      ],
      "text/markdown": [
       "\n",
       "| <!--/--> | Property.ID | Date | Status | Price | Booked.Date | Reservation.ID |\n",
       "|---|---|---|---|---|---|---|\n",
       "| 14375954 |   430340   | 2015-09-15 | A          | 150        |            | NA         |\n",
       "| 332654104 | 10596885   | 2016-09-29 | B          |  90        |            | NA         |\n",
       "| 400641975 | 13315681   | 2016-11-22 | A          |  50        |            | NA         |\n",
       "| 396729720 | 13183917   | 2016-09-25 | A          | 180        |            | NA         |\n",
       "| 348787386 | 11240038   | 2016-12-20 | A          | 120        |            | NA         |\n",
       "| 301907403 |  9394013   | 2015-11-08 | A          | 100        |            | NA         |\n",
       "\n"
      ],
      "text/plain": [
       "          Property.ID Date       Status Price Booked.Date Reservation.ID\n",
       "14375954    430340    2015-09-15 A      150               NA            \n",
       "332654104 10596885    2016-09-29 B       90               NA            \n",
       "400641975 13315681    2016-11-22 A       50               NA            \n",
       "396729720 13183917    2016-09-25 A      180               NA            \n",
       "348787386 11240038    2016-12-20 A      120               NA            \n",
       "301907403  9394013    2015-11-08 A      100               NA            "
      ]
     },
     "metadata": {},
     "output_type": "display_data"
    }
   ],
   "source": [
    "## We can examine the US Bookings Dataset by printing the first 5 elements.\n",
    "head(US_D)"
   ]
  },
  {
   "cell_type": "code",
   "execution_count": 6,
   "metadata": {},
   "outputs": [],
   "source": [
    "## Creating the city & state field\n",
    "US_P$City_State <- paste(US_P$City,\"_\", US_P$State, sep=\"\")"
   ]
  },
  {
   "cell_type": "code",
   "execution_count": 7,
   "metadata": {},
   "outputs": [
    {
     "name": "stdout",
     "output_type": "stream",
     "text": [
      "[1] \"Eugene_Oregon\"             \"Palm Desert_California\"   \n",
      "[3] \"Verona_Wisconsin\"          \"Chicago_Illinois\"         \n",
      "[5] \"Southbridge_Massachusetts\"\n"
     ]
    }
   ],
   "source": [
    "## Select all unique markets using unique City X State pairs\n",
    "Markets  <- unique(US_P$City_State, incomparables=FALSE)\n",
    "\n",
    "## For this excercise we will only use the first 10 markets\n",
    "Markets1 <- Markets[c(1,3,4,5,6)]\n",
    "print(Markets1)"
   ]
  },
  {
   "cell_type": "markdown",
   "metadata": {},
   "source": [
    "## Step 3: Modeling & Plotting\n",
    "\n",
    "This step is used when the parallelization and modification could happen for a data analytic application. In our case, we will need to go through all of the cities in the market and plot them out in terms of \"Revenue\" and \"Potential Revenue\". "
   ]
  },
  {
   "cell_type": "code",
   "execution_count": 8,
   "metadata": {},
   "outputs": [
    {
     "data": {
      "text/html": [
       "'Eugene_Oregon'"
      ],
      "text/latex": [
       "'Eugene\\_Oregon'"
      ],
      "text/markdown": [
       "'Eugene_Oregon'"
      ],
      "text/plain": [
       "[1] \"Eugene_Oregon\""
      ]
     },
     "metadata": {},
     "output_type": "display_data"
    }
   ],
   "source": [
    "## We can demonstrate the serial process by selecting one specific city\n",
    "y <- Markets[1]\n",
    "y"
   ]
  },
  {
   "cell_type": "code",
   "execution_count": 9,
   "metadata": {},
   "outputs": [
    {
     "data": {
      "text/html": [
       "<table>\n",
       "<thead><tr><th></th><th scope=col>Property.ID</th><th scope=col>Host.ID</th><th scope=col>Listing.Title</th><th scope=col>Property.Type</th><th scope=col>Listing.Type</th><th scope=col>Created.Date</th><th scope=col>Last.Scraped.Date</th><th scope=col>Country</th><th scope=col>State</th><th scope=col>City</th><th scope=col>...</th><th scope=col>Count.Available.Days.LTM</th><th scope=col>Count.Blocked.Days.LTM</th><th scope=col>Number.of.Photos</th><th scope=col>Business.Ready</th><th scope=col>Instantbook.Enabled</th><th scope=col>Listing.URL</th><th scope=col>Listing.Main.Image.URL</th><th scope=col>Latitude</th><th scope=col>Longitude</th><th scope=col>City_State</th></tr></thead>\n",
       "<tbody>\n",
       "\t<tr><th scope=row>1</th><td>87601                                                                                </td><td> 68654                                                                               </td><td>Eugene Get-Away (Sun Room)                                                           </td><td>House                                                                                </td><td>Private room                                                                         </td><td>2017-03-16                                                                           </td><td>2017-05-31                                                                           </td><td>United States                                                                        </td><td>Oregon                                                                               </td><td>Eugene                                                                               </td><td>...                                                                                  </td><td>  0                                                                                  </td><td>13                                                                                   </td><td>13                                                                                   </td><td>False                                                                                </td><td>No                                                                                   </td><td>https://www.airbnb.com/rooms/87601                                                   </td><td>https://a0.muscache.com/im/pictures/1868780/1bdccf9f_original.jpg?aki_policy=x_large </td><td>44.00863                                                                             </td><td>-123.1960                                                                            </td><td>Eugene_Oregon                                                                        </td></tr>\n",
       "\t<tr><th scope=row>563</th><td>37609                                                                                </td><td>161959                                                                               </td><td>Feels like a forest cabin!                                                           </td><td>Bungalow                                                                             </td><td>Entire home/apt                                                                      </td><td>2010-07-06                                                                           </td><td>2017-03-25                                                                           </td><td>United States                                                                        </td><td>Oregon                                                                               </td><td>Eugene                                                                               </td><td>...                                                                                  </td><td> 45                                                                                  </td><td>13                                                                                   </td><td> 6                                                                                   </td><td>False                                                                                </td><td>No                                                                                   </td><td>https://www.airbnb.com/rooms/37609                                                   </td><td>https://a0.muscache.com/im/pictures/67162e4f-98cc-4087-9d1a-d03f421512e1.jpg         </td><td>44.07781                                                                             </td><td>-123.0899                                                                            </td><td>Eugene_Oregon                                                                        </td></tr>\n",
       "\t<tr><th scope=row>1086</th><td>87035                                                                                </td><td>105888                                                                               </td><td>Quiet Suite in South Eugene Home                                                     </td><td>Guest suite                                                                          </td><td>Private room                                                                         </td><td>2011-04-01                                                                           </td><td>2017-05-31                                                                           </td><td>United States                                                                        </td><td>Oregon                                                                               </td><td>Eugene                                                                               </td><td>...                                                                                  </td><td>122                                                                                  </td><td>78                                                                                   </td><td>26                                                                                   </td><td>False                                                                                </td><td>No                                                                                   </td><td>https://www.airbnb.com/rooms/87035                                                   </td><td>https://a0.muscache.com/im/pictures/1816567/b5c170a5_original.jpg?aki_policy=x_large </td><td>44.01144                                                                             </td><td>-123.0795                                                                            </td><td>Eugene_Oregon                                                                        </td></tr>\n",
       "\t<tr><th scope=row>2922</th><td>49056                                                                                </td><td>223619                                                                               </td><td>Fabulous Views. Unique. Close to UO.                                                 </td><td>House                                                                                </td><td>Entire home/apt                                                                      </td><td>2010-09-05                                                                           </td><td>2017-06-01                                                                           </td><td>United States                                                                        </td><td>Oregon                                                                               </td><td>Eugene                                                                               </td><td>...                                                                                  </td><td> 76                                                                                  </td><td> 2                                                                                   </td><td>67                                                                                   </td><td>False                                                                                </td><td>No                                                                                   </td><td>https://www.airbnb.com/rooms/49056                                                   </td><td>https://a0.muscache.com/im/pictures/20004102/d97d6aba_original.jpg?aki_policy=x_large</td><td>44.04468                                                                             </td><td>-123.0555                                                                            </td><td>Eugene_Oregon                                                                        </td></tr>\n",
       "\t<tr><th scope=row>3457</th><td>27219                                                                                </td><td> 68654                                                                               </td><td>Eugene Get-Away (Garden Room)                                                        </td><td>House                                                                                </td><td>Private room                                                                         </td><td>2017-03-16                                                                           </td><td>2017-06-01                                                                           </td><td>United States                                                                        </td><td>Oregon                                                                               </td><td>Eugene                                                                               </td><td>...                                                                                  </td><td>  0                                                                                  </td><td>13                                                                                   </td><td>23                                                                                   </td><td>False                                                                                </td><td>No                                                                                   </td><td>https://www.airbnb.com/rooms/27219                                                   </td><td>https://a0.muscache.com/im/pictures/1831641/76f9c73f_original.jpg?aki_policy=x_large </td><td>44.00631                                                                             </td><td>-123.1984                                                                            </td><td>Eugene_Oregon                                                                        </td></tr>\n",
       "\t<tr><th scope=row>3598</th><td>40218                                                                                </td><td>169866                                                                               </td><td>Downtown Bungalow                                                                    </td><td>House                                                                                </td><td>Private room                                                                         </td><td>2010-07-18                                                                           </td><td>2017-05-31                                                                           </td><td>United States                                                                        </td><td>Oregon                                                                               </td><td>Eugene                                                                               </td><td>...                                                                                  </td><td>218                                                                                  </td><td>18                                                                                   </td><td>15                                                                                   </td><td>False                                                                                </td><td>No                                                                                   </td><td>https://www.airbnb.com/rooms/40218                                                   </td><td>https://a0.muscache.com/im/pictures/3102298/054c7636_original.jpg?aki_policy=x_large </td><td>44.04887                                                                             </td><td>-123.1062                                                                            </td><td>Eugene_Oregon                                                                        </td></tr>\n",
       "</tbody>\n",
       "</table>\n"
      ],
      "text/latex": [
       "\\begin{tabular}{r|lllllllllllllllllllllllllllllllllllllllllllllll}\n",
       "  & Property.ID & Host.ID & Listing.Title & Property.Type & Listing.Type & Created.Date & Last.Scraped.Date & Country & State & City & ... & Count.Available.Days.LTM & Count.Blocked.Days.LTM & Number.of.Photos & Business.Ready & Instantbook.Enabled & Listing.URL & Listing.Main.Image.URL & Latitude & Longitude & City\\_State\\\\\n",
       "\\hline\n",
       "\t1 & 87601                                                                                       &  68654                                                                                      & Eugene Get-Away (Sun Room)                                                                  & House                                                                                       & Private room                                                                                & 2017-03-16                                                                                  & 2017-05-31                                                                                  & United States                                                                               & Oregon                                                                                      & Eugene                                                                                      & ...                                                                                         &   0                                                                                         & 13                                                                                          & 13                                                                                          & False                                                                                       & No                                                                                          & https://www.airbnb.com/rooms/87601                                                          & https://a0.muscache.com/im/pictures/1868780/1bdccf9f\\_original.jpg?aki\\_policy=x\\_large  & 44.00863                                                                                    & -123.1960                                                                                   & Eugene\\_Oregon                                                                            \\\\\n",
       "\t563 & 37609                                                                                 & 161959                                                                                & Feels like a forest cabin!                                                            & Bungalow                                                                              & Entire home/apt                                                                       & 2010-07-06                                                                            & 2017-03-25                                                                            & United States                                                                         & Oregon                                                                                & Eugene                                                                                & ...                                                                                   &  45                                                                                   & 13                                                                                    &  6                                                                                    & False                                                                                 & No                                                                                    & https://www.airbnb.com/rooms/37609                                                    & https://a0.muscache.com/im/pictures/67162e4f-98cc-4087-9d1a-d03f421512e1.jpg          & 44.07781                                                                              & -123.0899                                                                             & Eugene\\_Oregon                                                                      \\\\\n",
       "\t1086 & 87035                                                                                       & 105888                                                                                      & Quiet Suite in South Eugene Home                                                            & Guest suite                                                                                 & Private room                                                                                & 2011-04-01                                                                                  & 2017-05-31                                                                                  & United States                                                                               & Oregon                                                                                      & Eugene                                                                                      & ...                                                                                         & 122                                                                                         & 78                                                                                          & 26                                                                                          & False                                                                                       & No                                                                                          & https://www.airbnb.com/rooms/87035                                                          & https://a0.muscache.com/im/pictures/1816567/b5c170a5\\_original.jpg?aki\\_policy=x\\_large  & 44.01144                                                                                    & -123.0795                                                                                   & Eugene\\_Oregon                                                                            \\\\\n",
       "\t2922 & 49056                                                                                       & 223619                                                                                      & Fabulous Views. Unique. Close to UO.                                                        & House                                                                                       & Entire home/apt                                                                             & 2010-09-05                                                                                  & 2017-06-01                                                                                  & United States                                                                               & Oregon                                                                                      & Eugene                                                                                      & ...                                                                                         &  76                                                                                         &  2                                                                                          & 67                                                                                          & False                                                                                       & No                                                                                          & https://www.airbnb.com/rooms/49056                                                          & https://a0.muscache.com/im/pictures/20004102/d97d6aba\\_original.jpg?aki\\_policy=x\\_large & 44.04468                                                                                    & -123.0555                                                                                   & Eugene\\_Oregon                                                                            \\\\\n",
       "\t3457 & 27219                                                                                       &  68654                                                                                      & Eugene Get-Away (Garden Room)                                                               & House                                                                                       & Private room                                                                                & 2017-03-16                                                                                  & 2017-06-01                                                                                  & United States                                                                               & Oregon                                                                                      & Eugene                                                                                      & ...                                                                                         &   0                                                                                         & 13                                                                                          & 23                                                                                          & False                                                                                       & No                                                                                          & https://www.airbnb.com/rooms/27219                                                          & https://a0.muscache.com/im/pictures/1831641/76f9c73f\\_original.jpg?aki\\_policy=x\\_large  & 44.00631                                                                                    & -123.1984                                                                                   & Eugene\\_Oregon                                                                            \\\\\n",
       "\t3598 & 40218                                                                                       & 169866                                                                                      & Downtown Bungalow                                                                           & House                                                                                       & Private room                                                                                & 2010-07-18                                                                                  & 2017-05-31                                                                                  & United States                                                                               & Oregon                                                                                      & Eugene                                                                                      & ...                                                                                         & 218                                                                                         & 18                                                                                          & 15                                                                                          & False                                                                                       & No                                                                                          & https://www.airbnb.com/rooms/40218                                                          & https://a0.muscache.com/im/pictures/3102298/054c7636\\_original.jpg?aki\\_policy=x\\_large  & 44.04887                                                                                    & -123.1062                                                                                   & Eugene\\_Oregon                                                                            \\\\\n",
       "\\end{tabular}\n"
      ],
      "text/markdown": [
       "\n",
       "| <!--/--> | Property.ID | Host.ID | Listing.Title | Property.Type | Listing.Type | Created.Date | Last.Scraped.Date | Country | State | City | ... | Count.Available.Days.LTM | Count.Blocked.Days.LTM | Number.of.Photos | Business.Ready | Instantbook.Enabled | Listing.URL | Listing.Main.Image.URL | Latitude | Longitude | City_State |\n",
       "|---|---|---|---|---|---|---|---|---|---|---|---|---|---|---|---|---|---|---|---|---|---|\n",
       "| 1 | 87601                                                                                 |  68654                                                                                | Eugene Get-Away (Sun Room)                                                            | House                                                                                 | Private room                                                                          | 2017-03-16                                                                            | 2017-05-31                                                                            | United States                                                                         | Oregon                                                                                | Eugene                                                                                | ...                                                                                   |   0                                                                                   | 13                                                                                    | 13                                                                                    | False                                                                                 | No                                                                                    | https://www.airbnb.com/rooms/87601                                                    | https://a0.muscache.com/im/pictures/1868780/1bdccf9f_original.jpg?aki_policy=x_large  | 44.00863                                                                              | -123.1960                                                                             | Eugene_Oregon                                                                         |\n",
       "| 563 | 37609                                                                                 | 161959                                                                                | Feels like a forest cabin!                                                            | Bungalow                                                                              | Entire home/apt                                                                       | 2010-07-06                                                                            | 2017-03-25                                                                            | United States                                                                         | Oregon                                                                                | Eugene                                                                                | ...                                                                                   |  45                                                                                   | 13                                                                                    |  6                                                                                    | False                                                                                 | No                                                                                    | https://www.airbnb.com/rooms/37609                                                    | https://a0.muscache.com/im/pictures/67162e4f-98cc-4087-9d1a-d03f421512e1.jpg          | 44.07781                                                                              | -123.0899                                                                             | Eugene_Oregon                                                                         |\n",
       "| 1086 | 87035                                                                                 | 105888                                                                                | Quiet Suite in South Eugene Home                                                      | Guest suite                                                                           | Private room                                                                          | 2011-04-01                                                                            | 2017-05-31                                                                            | United States                                                                         | Oregon                                                                                | Eugene                                                                                | ...                                                                                   | 122                                                                                   | 78                                                                                    | 26                                                                                    | False                                                                                 | No                                                                                    | https://www.airbnb.com/rooms/87035                                                    | https://a0.muscache.com/im/pictures/1816567/b5c170a5_original.jpg?aki_policy=x_large  | 44.01144                                                                              | -123.0795                                                                             | Eugene_Oregon                                                                         |\n",
       "| 2922 | 49056                                                                                 | 223619                                                                                | Fabulous Views. Unique. Close to UO.                                                  | House                                                                                 | Entire home/apt                                                                       | 2010-09-05                                                                            | 2017-06-01                                                                            | United States                                                                         | Oregon                                                                                | Eugene                                                                                | ...                                                                                   |  76                                                                                   |  2                                                                                    | 67                                                                                    | False                                                                                 | No                                                                                    | https://www.airbnb.com/rooms/49056                                                    | https://a0.muscache.com/im/pictures/20004102/d97d6aba_original.jpg?aki_policy=x_large | 44.04468                                                                              | -123.0555                                                                             | Eugene_Oregon                                                                         |\n",
       "| 3457 | 27219                                                                                 |  68654                                                                                | Eugene Get-Away (Garden Room)                                                         | House                                                                                 | Private room                                                                          | 2017-03-16                                                                            | 2017-06-01                                                                            | United States                                                                         | Oregon                                                                                | Eugene                                                                                | ...                                                                                   |   0                                                                                   | 13                                                                                    | 23                                                                                    | False                                                                                 | No                                                                                    | https://www.airbnb.com/rooms/27219                                                    | https://a0.muscache.com/im/pictures/1831641/76f9c73f_original.jpg?aki_policy=x_large  | 44.00631                                                                              | -123.1984                                                                             | Eugene_Oregon                                                                         |\n",
       "| 3598 | 40218                                                                                 | 169866                                                                                | Downtown Bungalow                                                                     | House                                                                                 | Private room                                                                          | 2010-07-18                                                                            | 2017-05-31                                                                            | United States                                                                         | Oregon                                                                                | Eugene                                                                                | ...                                                                                   | 218                                                                                   | 18                                                                                    | 15                                                                                    | False                                                                                 | No                                                                                    | https://www.airbnb.com/rooms/40218                                                    | https://a0.muscache.com/im/pictures/3102298/054c7636_original.jpg?aki_policy=x_large  | 44.04887                                                                              | -123.1062                                                                             | Eugene_Oregon                                                                         |\n",
       "\n"
      ],
      "text/plain": [
       "     Property.ID Host.ID Listing.Title                        Property.Type\n",
       "1    87601        68654  Eugene Get-Away (Sun Room)           House        \n",
       "563  37609       161959  Feels like a forest cabin!           Bungalow     \n",
       "1086 87035       105888  Quiet Suite in South Eugene Home     Guest suite  \n",
       "2922 49056       223619  Fabulous Views. Unique. Close to UO. House        \n",
       "3457 27219        68654  Eugene Get-Away (Garden Room)        House        \n",
       "3598 40218       169866  Downtown Bungalow                    House        \n",
       "     Listing.Type    Created.Date Last.Scraped.Date Country       State  City  \n",
       "1    Private room    2017-03-16   2017-05-31        United States Oregon Eugene\n",
       "563  Entire home/apt 2010-07-06   2017-03-25        United States Oregon Eugene\n",
       "1086 Private room    2011-04-01   2017-05-31        United States Oregon Eugene\n",
       "2922 Entire home/apt 2010-09-05   2017-06-01        United States Oregon Eugene\n",
       "3457 Private room    2017-03-16   2017-06-01        United States Oregon Eugene\n",
       "3598 Private room    2010-07-18   2017-05-31        United States Oregon Eugene\n",
       "     ... Count.Available.Days.LTM Count.Blocked.Days.LTM Number.of.Photos\n",
       "1    ...   0                      13                     13              \n",
       "563  ...  45                      13                      6              \n",
       "1086 ... 122                      78                     26              \n",
       "2922 ...  76                       2                     67              \n",
       "3457 ...   0                      13                     23              \n",
       "3598 ... 218                      18                     15              \n",
       "     Business.Ready Instantbook.Enabled Listing.URL                       \n",
       "1    False          No                  https://www.airbnb.com/rooms/87601\n",
       "563  False          No                  https://www.airbnb.com/rooms/37609\n",
       "1086 False          No                  https://www.airbnb.com/rooms/87035\n",
       "2922 False          No                  https://www.airbnb.com/rooms/49056\n",
       "3457 False          No                  https://www.airbnb.com/rooms/27219\n",
       "3598 False          No                  https://www.airbnb.com/rooms/40218\n",
       "     Listing.Main.Image.URL                                                               \n",
       "1    https://a0.muscache.com/im/pictures/1868780/1bdccf9f_original.jpg?aki_policy=x_large \n",
       "563  https://a0.muscache.com/im/pictures/67162e4f-98cc-4087-9d1a-d03f421512e1.jpg         \n",
       "1086 https://a0.muscache.com/im/pictures/1816567/b5c170a5_original.jpg?aki_policy=x_large \n",
       "2922 https://a0.muscache.com/im/pictures/20004102/d97d6aba_original.jpg?aki_policy=x_large\n",
       "3457 https://a0.muscache.com/im/pictures/1831641/76f9c73f_original.jpg?aki_policy=x_large \n",
       "3598 https://a0.muscache.com/im/pictures/3102298/054c7636_original.jpg?aki_policy=x_large \n",
       "     Latitude Longitude City_State   \n",
       "1    44.00863 -123.1960 Eugene_Oregon\n",
       "563  44.07781 -123.0899 Eugene_Oregon\n",
       "1086 44.01144 -123.0795 Eugene_Oregon\n",
       "2922 44.04468 -123.0555 Eugene_Oregon\n",
       "3457 44.00631 -123.1984 Eugene_Oregon\n",
       "3598 44.04887 -123.1062 Eugene_Oregon"
      ]
     },
     "metadata": {},
     "output_type": "display_data"
    }
   ],
   "source": [
    "## Choose market\n",
    "TH_P <- subset(US_P, City_State==y)\n",
    "head(TH_P)"
   ]
  },
  {
   "cell_type": "code",
   "execution_count": 10,
   "metadata": {},
   "outputs": [
    {
     "data": {
      "text/html": [
       "<table>\n",
       "<thead><tr><th></th><th scope=col>Property.ID</th><th scope=col>Date</th><th scope=col>Status</th><th scope=col>Price</th><th scope=col>Booked.Date</th><th scope=col>Reservation.ID</th></tr></thead>\n",
       "<tbody>\n",
       "\t<tr><th scope=row>405846483</th><td>13495878  </td><td>2016-12-17</td><td>A         </td><td> 75       </td><td>          </td><td>      NA  </td></tr>\n",
       "\t<tr><th scope=row>388388179</th><td>12902642  </td><td>2016-05-17</td><td>A         </td><td>150       </td><td>          </td><td>      NA  </td></tr>\n",
       "\t<tr><th scope=row>99906678</th><td> 3292442  </td><td>2015-11-06</td><td>R         </td><td>100       </td><td>2015-10-18</td><td>33052463  </td></tr>\n",
       "\t<tr><th scope=row>240366036</th><td> 7496651  </td><td>2017-01-03</td><td>B         </td><td> 25       </td><td>          </td><td>      NA  </td></tr>\n",
       "\t<tr><th scope=row>80185580</th><td> 2564923  </td><td>2016-02-24</td><td>A         </td><td>300       </td><td>          </td><td>      NA  </td></tr>\n",
       "\t<tr><th scope=row>161815514</th><td> 5038655  </td><td>2016-12-22</td><td>A         </td><td> 85       </td><td>          </td><td>      NA  </td></tr>\n",
       "</tbody>\n",
       "</table>\n"
      ],
      "text/latex": [
       "\\begin{tabular}{r|llllll}\n",
       "  & Property.ID & Date & Status & Price & Booked.Date & Reservation.ID\\\\\n",
       "\\hline\n",
       "\t405846483 & 13495878   & 2016-12-17 & A          &  75        &            &       NA  \\\\\n",
       "\t388388179 & 12902642   & 2016-05-17 & A          & 150        &            &       NA  \\\\\n",
       "\t99906678 &  3292442   & 2015-11-06 & R          & 100        & 2015-10-18 & 33052463  \\\\\n",
       "\t240366036 &  7496651   & 2017-01-03 & B          &  25        &            &       NA  \\\\\n",
       "\t80185580 &  2564923   & 2016-02-24 & A          & 300        &            &       NA  \\\\\n",
       "\t161815514 &  5038655   & 2016-12-22 & A          &  85        &            &       NA  \\\\\n",
       "\\end{tabular}\n"
      ],
      "text/markdown": [
       "\n",
       "| <!--/--> | Property.ID | Date | Status | Price | Booked.Date | Reservation.ID |\n",
       "|---|---|---|---|---|---|---|\n",
       "| 405846483 | 13495878   | 2016-12-17 | A          |  75        |            |       NA   |\n",
       "| 388388179 | 12902642   | 2016-05-17 | A          | 150        |            |       NA   |\n",
       "| 99906678 |  3292442   | 2015-11-06 | R          | 100        | 2015-10-18 | 33052463   |\n",
       "| 240366036 |  7496651   | 2017-01-03 | B          |  25        |            |       NA   |\n",
       "| 80185580 |  2564923   | 2016-02-24 | A          | 300        |            |       NA   |\n",
       "| 161815514 |  5038655   | 2016-12-22 | A          |  85        |            |       NA   |\n",
       "\n"
      ],
      "text/plain": [
       "          Property.ID Date       Status Price Booked.Date Reservation.ID\n",
       "405846483 13495878    2016-12-17 A       75                     NA      \n",
       "388388179 12902642    2016-05-17 A      150                     NA      \n",
       "99906678   3292442    2015-11-06 R      100   2015-10-18  33052463      \n",
       "240366036  7496651    2017-01-03 B       25                     NA      \n",
       "80185580   2564923    2016-02-24 A      300                     NA      \n",
       "161815514  5038655    2016-12-22 A       85                     NA      "
      ]
     },
     "metadata": {},
     "output_type": "display_data"
    }
   ],
   "source": [
    "## Subset Daily Data by Market\n",
    "TH_ID <- as.vector(TH_P$Property.ID)\n",
    "TH_D <- US_D[which(US_D$Property.ID %in% TH_ID),]\n",
    "head(TH_D)"
   ]
  },
  {
   "cell_type": "code",
   "execution_count": 11,
   "metadata": {},
   "outputs": [
    {
     "name": "stdout",
     "output_type": "stream",
     "text": [
      "[1] \"final form of TH_D\"\n"
     ]
    },
    {
     "data": {
      "text/html": [
       "<table>\n",
       "<thead><tr><th></th><th scope=col>Property.ID</th><th scope=col>Date</th><th scope=col>Status</th><th scope=col>Price</th><th scope=col>Booked.Date</th><th scope=col>Reservation.ID</th><th scope=col>date</th><th scope=col>datepos</th></tr></thead>\n",
       "<tbody>\n",
       "\t<tr><th scope=row>405846483</th><td>13495878  </td><td>2016-12-17</td><td>A         </td><td> 75       </td><td>          </td><td>      NA  </td><td>2016-12-17</td><td>2016-12-17</td></tr>\n",
       "\t<tr><th scope=row>388388179</th><td>12902642  </td><td>2016-05-17</td><td>A         </td><td>150       </td><td>          </td><td>      NA  </td><td>2016-05-17</td><td>2016-05-17</td></tr>\n",
       "\t<tr><th scope=row>99906678</th><td> 3292442  </td><td>2015-11-06</td><td>R         </td><td>100       </td><td>2015-10-18</td><td>33052463  </td><td>2015-11-06</td><td>2015-11-06</td></tr>\n",
       "\t<tr><th scope=row>240366036</th><td> 7496651  </td><td>2017-01-03</td><td>B         </td><td> 25       </td><td>          </td><td>      NA  </td><td>2017-01-03</td><td>2017-01-03</td></tr>\n",
       "\t<tr><th scope=row>80185580</th><td> 2564923  </td><td>2016-02-24</td><td>A         </td><td>300       </td><td>          </td><td>      NA  </td><td>2016-02-24</td><td>2016-02-24</td></tr>\n",
       "\t<tr><th scope=row>161815514</th><td> 5038655  </td><td>2016-12-22</td><td>A         </td><td> 85       </td><td>          </td><td>      NA  </td><td>2016-12-22</td><td>2016-12-22</td></tr>\n",
       "</tbody>\n",
       "</table>\n"
      ],
      "text/latex": [
       "\\begin{tabular}{r|llllllll}\n",
       "  & Property.ID & Date & Status & Price & Booked.Date & Reservation.ID & date & datepos\\\\\n",
       "\\hline\n",
       "\t405846483 & 13495878   & 2016-12-17 & A          &  75        &            &       NA   & 2016-12-17 & 2016-12-17\\\\\n",
       "\t388388179 & 12902642   & 2016-05-17 & A          & 150        &            &       NA   & 2016-05-17 & 2016-05-17\\\\\n",
       "\t99906678 &  3292442   & 2015-11-06 & R          & 100        & 2015-10-18 & 33052463   & 2015-11-06 & 2015-11-06\\\\\n",
       "\t240366036 &  7496651   & 2017-01-03 & B          &  25        &            &       NA   & 2017-01-03 & 2017-01-03\\\\\n",
       "\t80185580 &  2564923   & 2016-02-24 & A          & 300        &            &       NA   & 2016-02-24 & 2016-02-24\\\\\n",
       "\t161815514 &  5038655   & 2016-12-22 & A          &  85        &            &       NA   & 2016-12-22 & 2016-12-22\\\\\n",
       "\\end{tabular}\n"
      ],
      "text/markdown": [
       "\n",
       "| <!--/--> | Property.ID | Date | Status | Price | Booked.Date | Reservation.ID | date | datepos |\n",
       "|---|---|---|---|---|---|---|---|---|\n",
       "| 405846483 | 13495878   | 2016-12-17 | A          |  75        |            |       NA   | 2016-12-17 | 2016-12-17 |\n",
       "| 388388179 | 12902642   | 2016-05-17 | A          | 150        |            |       NA   | 2016-05-17 | 2016-05-17 |\n",
       "| 99906678 |  3292442   | 2015-11-06 | R          | 100        | 2015-10-18 | 33052463   | 2015-11-06 | 2015-11-06 |\n",
       "| 240366036 |  7496651   | 2017-01-03 | B          |  25        |            |       NA   | 2017-01-03 | 2017-01-03 |\n",
       "| 80185580 |  2564923   | 2016-02-24 | A          | 300        |            |       NA   | 2016-02-24 | 2016-02-24 |\n",
       "| 161815514 |  5038655   | 2016-12-22 | A          |  85        |            |       NA   | 2016-12-22 | 2016-12-22 |\n",
       "\n"
      ],
      "text/plain": [
       "          Property.ID Date       Status Price Booked.Date Reservation.ID\n",
       "405846483 13495878    2016-12-17 A       75                     NA      \n",
       "388388179 12902642    2016-05-17 A      150                     NA      \n",
       "99906678   3292442    2015-11-06 R      100   2015-10-18  33052463      \n",
       "240366036  7496651    2017-01-03 B       25                     NA      \n",
       "80185580   2564923    2016-02-24 A      300                     NA      \n",
       "161815514  5038655    2016-12-22 A       85                     NA      \n",
       "          date       datepos   \n",
       "405846483 2016-12-17 2016-12-17\n",
       "388388179 2016-05-17 2016-05-17\n",
       "99906678  2015-11-06 2015-11-06\n",
       "240366036 2017-01-03 2017-01-03\n",
       "80185580  2016-02-24 2016-02-24\n",
       "161815514 2016-12-22 2016-12-22"
      ]
     },
     "metadata": {},
     "output_type": "display_data"
    }
   ],
   "source": [
    "# Define Market Characteristics\n",
    "City <- TH_P$City[1]\n",
    "State <- TH_P$State[1]\n",
    "\n",
    "## Modify date format\n",
    "TH_D$date <- as.Date(as.character(TH_D$Date), format=\"%Y-%m-%d\")\n",
    "TH_D$datepos <- as.POSIXlt(TH_D$date)\n",
    "print(\"final form of TH_D\")\n",
    "head(TH_D)"
   ]
  },
  {
   "cell_type": "code",
   "execution_count": 12,
   "metadata": {},
   "outputs": [
    {
     "data": {
      "text/html": [
       "<table>\n",
       "<thead><tr><th scope=col>date</th><th scope=col>PotentialRevenue</th><th scope=col>Revenue</th><th scope=col>RevenueFraction</th><th scope=col>City</th><th scope=col>State</th></tr></thead>\n",
       "<tbody>\n",
       "\t<tr><td>2014-08-01</td><td>3073      </td><td>1645      </td><td>0.5353075 </td><td>Eugene    </td><td>Oregon    </td></tr>\n",
       "\t<tr><td>2014-08-02</td><td>2676      </td><td> 972      </td><td>0.3632287 </td><td>Eugene    </td><td>Oregon    </td></tr>\n",
       "\t<tr><td>2014-08-03</td><td>3242      </td><td>1635      </td><td>0.5043183 </td><td>Eugene    </td><td>Oregon    </td></tr>\n",
       "\t<tr><td>2014-08-04</td><td>2225      </td><td> 681      </td><td>0.3060674 </td><td>Eugene    </td><td>Oregon    </td></tr>\n",
       "\t<tr><td>2014-08-05</td><td>3075      </td><td> 692      </td><td>0.2250407 </td><td>Eugene    </td><td>Oregon    </td></tr>\n",
       "\t<tr><td>2014-08-06</td><td>3954      </td><td>1546      </td><td>0.3909965 </td><td>Eugene    </td><td>Oregon    </td></tr>\n",
       "</tbody>\n",
       "</table>\n"
      ],
      "text/latex": [
       "\\begin{tabular}{r|llllll}\n",
       " date & PotentialRevenue & Revenue & RevenueFraction & City & State\\\\\n",
       "\\hline\n",
       "\t 2014-08-01 & 3073       & 1645       & 0.5353075  & Eugene     & Oregon    \\\\\n",
       "\t 2014-08-02 & 2676       &  972       & 0.3632287  & Eugene     & Oregon    \\\\\n",
       "\t 2014-08-03 & 3242       & 1635       & 0.5043183  & Eugene     & Oregon    \\\\\n",
       "\t 2014-08-04 & 2225       &  681       & 0.3060674  & Eugene     & Oregon    \\\\\n",
       "\t 2014-08-05 & 3075       &  692       & 0.2250407  & Eugene     & Oregon    \\\\\n",
       "\t 2014-08-06 & 3954       & 1546       & 0.3909965  & Eugene     & Oregon    \\\\\n",
       "\\end{tabular}\n"
      ],
      "text/markdown": [
       "\n",
       "| date | PotentialRevenue | Revenue | RevenueFraction | City | State |\n",
       "|---|---|---|---|---|---|\n",
       "| 2014-08-01 | 3073       | 1645       | 0.5353075  | Eugene     | Oregon     |\n",
       "| 2014-08-02 | 2676       |  972       | 0.3632287  | Eugene     | Oregon     |\n",
       "| 2014-08-03 | 3242       | 1635       | 0.5043183  | Eugene     | Oregon     |\n",
       "| 2014-08-04 | 2225       |  681       | 0.3060674  | Eugene     | Oregon     |\n",
       "| 2014-08-05 | 3075       |  692       | 0.2250407  | Eugene     | Oregon     |\n",
       "| 2014-08-06 | 3954       | 1546       | 0.3909965  | Eugene     | Oregon     |\n",
       "\n"
      ],
      "text/plain": [
       "  date       PotentialRevenue Revenue RevenueFraction City   State \n",
       "1 2014-08-01 3073             1645    0.5353075       Eugene Oregon\n",
       "2 2014-08-02 2676              972    0.3632287       Eugene Oregon\n",
       "3 2014-08-03 3242             1635    0.5043183       Eugene Oregon\n",
       "4 2014-08-04 2225              681    0.3060674       Eugene Oregon\n",
       "5 2014-08-05 3075              692    0.2250407       Eugene Oregon\n",
       "6 2014-08-06 3954             1546    0.3909965       Eugene Oregon"
      ]
     },
     "metadata": {},
     "output_type": "display_data"
    }
   ],
   "source": [
    "## Compute Property Level Potential Revenue\n",
    "TH_D$PotentialRevenue <- 0\n",
    "TH_D$PotentialRevenue[which(TH_D$Status==\"A\" | TH_D$Status==\"R\")] <- TH_D$Price[which(TH_D$Status==\"A\" | TH_D$Status==\"R\")]\n",
    "\n",
    "## Compute Property Level Revenue\n",
    "TH_D$Revenue <- 0\n",
    "TH_D$Revenue[which(TH_D$Status==\"R\")] <- TH_D$Price[which(TH_D$Status==\"R\")]\n",
    "\n",
    "## Compute Market Level Potential Revenue\n",
    "PotentialRevenue <- aggregate(PotentialRevenue ~ date, data=TH_D, FUN=sum, na.rm=TRUE)\n",
    "\n",
    "## Compute Market Level Revenue\n",
    "Revenue <- aggregate(Revenue ~ date, data=TH_D, FUN=sum, na.rm=TRUE)\n",
    "\n",
    "## Merge Revenue Data\n",
    "TH_Daily <- merge(PotentialRevenue,Revenue, by = c(\"date\"))\n",
    "TH_Daily$RevenueFraction <- as.numeric(TH_Daily$Revenue/TH_Daily$PotentialRevenue)\n",
    "TH_Daily$City <- City\n",
    "TH_Daily$State <- State\n",
    "\n",
    "head(TH_Daily)"
   ]
  },
  {
   "cell_type": "code",
   "execution_count": 13,
   "metadata": {},
   "outputs": [
    {
     "name": "stderr",
     "output_type": "stream",
     "text": [
      "Warning message in gzfile(file, mode):\n",
      "\"cannot open compressed file 'C:\\Users\\luoyec2\\Documents/outputs/Lab4/Eugene_Oregon.rds', probable reason 'No such file or directory'\""
     ]
    },
    {
     "ename": "ERROR",
     "evalue": "Error in gzfile(file, mode): cannot open the connection\n",
     "output_type": "error",
     "traceback": [
      "Error in gzfile(file, mode): cannot open the connection\nTraceback:\n",
      "1. saveRDS(TH_Daily, data_name)",
      "2. gzfile(file, mode)"
     ]
    }
   ],
   "source": [
    "## SaveRDS\n",
    "data_name = paste(file.path(path.expand('~'),'outputs','Lab4'), \"/\", y, \".rds\", sep=\"\")  \n",
    "saveRDS(TH_Daily, data_name)"
   ]
  },
  {
   "cell_type": "code",
   "execution_count": 14,
   "metadata": {},
   "outputs": [
    {
     "name": "stderr",
     "output_type": "stream",
     "text": [
      "Warning message in grDevices::png(..., res = dpi, units = \"in\"):\n",
      "\"unable to open file 'C:\\Users\\luoyec2\\Documents/outputs/Lab4/Revenue_Eugene_Oregon.png' for writing\"Warning message in grDevices::png(..., res = dpi, units = \"in\"):\n",
      "\"opening device failed\""
     ]
    },
    {
     "ename": "ERROR",
     "evalue": "Error in grDevices::png(..., res = dpi, units = \"in\"): unable to start png() device\n",
     "output_type": "error",
     "traceback": [
      "Error in grDevices::png(..., res = dpi, units = \"in\"): unable to start png() device\nTraceback:\n",
      "1. ggsave(graph_name, width = 8, height = 5)",
      "2. dev(filename = filename, width = dim[1], height = dim[2], ...)",
      "3. grDevices::png(..., res = dpi, units = \"in\")"
     ]
    },
    {
     "data": {
      "image/png": "[encoded data removed]",
      "text/plain": [
       "plot without title"
      ]
     },
     "metadata": {},
     "output_type": "display_data"
    }
   ],
   "source": [
    "# Plot Potential and Actual Revenue by Date\n",
    "ggplot() +\n",
    "geom_line(aes(TH_Daily$date, TH_Daily$PotentialRevenue), colour='black') +\n",
    "geom_line(aes(TH_Daily$date, TH_Daily$Revenue), colour='red')\n",
    "\n",
    "# Print file\n",
    "graph_name = paste(file.path(path.expand('~'),'outputs','Lab4'), \"/Revenue_\", y, \".png\", sep=\"\")\n",
    "ggsave(graph_name, width = 8, height = 5)"
   ]
  },
  {
   "cell_type": "code",
   "execution_count": 15,
   "metadata": {},
   "outputs": [
    {
     "name": "stderr",
     "output_type": "stream",
     "text": [
      "Loading required package: foreach\n",
      "Loading required package: doParallel\n",
      "Warning message in library(package, lib.loc = lib.loc, character.only = TRUE, logical.return = TRUE, :\n",
      "\"there is no package called 'doParallel'\"Installing package into 'C:/Users/luoyec2/Documents/R/win-library/3.6'\n",
      "(as 'lib' is unspecified)\n",
      "also installing the dependencies 'mlbench', 'RUnit'\n",
      "\n"
     ]
    },
    {
     "name": "stdout",
     "output_type": "stream",
     "text": [
      "package 'mlbench' successfully unpacked and MD5 sums checked\n",
      "package 'RUnit' successfully unpacked and MD5 sums checked\n",
      "package 'doParallel' successfully unpacked and MD5 sums checked\n",
      "\n",
      "The downloaded binary packages are in\n",
      "\tC:\\Users\\luoyec2\\AppData\\Local\\Temp\\RtmpmSbXxj\\downloaded_packages\n"
     ]
    },
    {
     "name": "stderr",
     "output_type": "stream",
     "text": [
      "Loading required package: doParallel\n",
      "Loading required package: iterators\n",
      "Loading required package: parallel\n"
     ]
    },
    {
     "data": {
      "text/html": [
       "<ol>\n",
       "\t<li>NULL</li>\n",
       "\t<li>NULL</li>\n",
       "</ol>\n"
      ],
      "text/latex": [
       "\\begin{enumerate}\n",
       "\\item NULL\n",
       "\\item NULL\n",
       "\\end{enumerate}\n"
      ],
      "text/markdown": [
       "1. NULL\n",
       "2. NULL\n",
       "\n",
       "\n"
      ],
      "text/plain": [
       "[[1]]\n",
       "NULL\n",
       "\n",
       "[[2]]\n",
       "NULL\n"
      ]
     },
     "metadata": {},
     "output_type": "display_data"
    }
   ],
   "source": [
    "## This function will check if a package is installed, and if not, install it\n",
    "pkgTest <- function(x) {\n",
    "  if (!require(x, character.only = TRUE))\n",
    "  {\n",
    "    install.packages(x, dep = TRUE)\n",
    "    if(!require(x, character.only = TRUE)) stop(\"Package not found\")\n",
    "  }\n",
    "}\n",
    "\n",
    "## These lines load the required packages using 'pkgTest' function\n",
    "packages <- c(\"foreach\", \"doParallel\")\n",
    "lapply(packages, pkgTest)"
   ]
  },
  {
   "cell_type": "markdown",
   "metadata": {},
   "source": [
    "## Step 3.1: Creating the parallel function\n",
    "\n",
    "This step creates the function that can be used in the \"foreach\" parallel program. Syntax is imperative."
   ]
  },
  {
   "cell_type": "code",
   "execution_count": 16,
   "metadata": {},
   "outputs": [],
   "source": [
    "findModel <- function(y, US_P, US_D){  \n",
    "\n",
    "  print(paste0(y, \" beginning\"))\n",
    "\n",
    "  ## Choose market\n",
    "  TH_P <- subset(US_P, City_State==y)\n",
    "  \n",
    "  ## Subset Daily Data by Market\n",
    "  TH_ID <- as.vector(TH_P$Property.ID)\n",
    "  TH_D <- US_D[which(US_D$Property.ID %in% TH_ID),]\n",
    "  \n",
    "  if(nrow(TH_D) == 0){\n",
    "    print(paste0(y,\" had 0 terms\"))\n",
    "  } else {\n",
    "\n",
    "  # Define Market Characteristics\n",
    "  City <- TH_P$City[1]\n",
    "  State <- TH_P$State[1]\n",
    "  \n",
    "  ## Modify date format\n",
    "  TH_D$date <- as.Date(as.character(TH_D$Date), format=\"%Y-%m-%d\")\n",
    "  TH_D$datepos <- as.POSIXlt(TH_D$date)\n",
    "  \n",
    "  ## Compute Property Level Potential Revenue\n",
    "  TH_D$PotentialRevenue <- 0\n",
    "  TH_D$PotentialRevenue[which(TH_D$Status==\"A\" | TH_D$Status==\"R\")] <- TH_D$Price[which(TH_D$Status==\"A\" | TH_D$Status==\"R\")]\n",
    "  \n",
    "  ## Compute Property Level Revenue\n",
    "  TH_D$Revenue <- 0\n",
    "  TH_D$Revenue[which(TH_D$Status==\"R\")] <- TH_D$Price[which(TH_D$Status==\"R\")]\n",
    "  \n",
    "  ## Compute Market Level Potential Revenue\n",
    "  PotentialRevenue <- aggregate(PotentialRevenue ~ date, data=TH_D, FUN=sum, na.rm=TRUE)\n",
    "  \n",
    "  ## Compute Market Level Revenue\n",
    "  Revenue <- aggregate(Revenue ~ date, data=TH_D, FUN=sum, na.rm=TRUE)\n",
    "  \n",
    "  ## Merge Revenue Data\n",
    "  TH_Daily <- merge(PotentialRevenue,Revenue, by = c(\"date\"))\n",
    "  TH_Daily$RevenueFraction <- as.numeric(TH_Daily$Revenue/TH_Daily$PotentialRevenue)\n",
    "  TH_Daily$City <- City\n",
    "  TH_Daily$State <- State\n",
    "  \n",
    "  ## SaveRDS\n",
    "  data_name = paste(file.path(path.expand('~'),'outputs','Lab4'), \"/\", y, \".rds\", sep=\"\")\n",
    "  saveRDS(TH_Daily, data_name)\n",
    "  \n",
    "  # Plot Potential and Actual Revenue by Date\n",
    "  ggplot() +\n",
    "    geom_line(aes(TH_Daily$date, TH_Daily$PotentialRevenue), colour='black') +\n",
    "    geom_line(aes(TH_Daily$date, TH_Daily$Revenue), colour='red')\n",
    "  \n",
    "  # print file\n",
    "  graph_name = paste(file.path(path.expand('~'),'outputs','Lab4'), \"/Revenue_\", y, \".png\", sep=\"\")\n",
    "  ggsave(graph_name, width = 8, height = 5)\n",
    "  }\n",
    "  # print finished city\n",
    "  print(y)\n",
    "\n",
    "}"
   ]
  },
  {
   "cell_type": "markdown",
   "metadata": {},
   "source": [
    "## Step 3.2: Running the foreach parallelization"
   ]
  },
  {
   "cell_type": "code",
   "execution_count": 17,
   "metadata": {},
   "outputs": [
    {
     "data": {
      "text/html": [
       "4"
      ],
      "text/latex": [
       "4"
      ],
      "text/markdown": [
       "4"
      ],
      "text/plain": [
       "[1] 4"
      ]
     },
     "metadata": {},
     "output_type": "display_data"
    }
   ],
   "source": [
    "np <- detectCores()\n",
    "np"
   ]
  },
  {
   "cell_type": "code",
   "execution_count": 18,
   "metadata": {
    "scrolled": false
   },
   "outputs": [
    {
     "ename": "ERROR",
     "evalue": "Error in makeForkCluster(num_cores): fork clusters are not supported on Windows\n",
     "output_type": "error",
     "traceback": [
      "Error in makeForkCluster(num_cores): fork clusters are not supported on Windows\nTraceback:\n",
      "1. makeForkCluster(num_cores)",
      "2. stop(\"fork clusters are not supported on Windows\")"
     ]
    }
   ],
   "source": [
    "## Set the number of cores to 4 for testing purposes, on a real run, you will need to use (np-1) number of cores\n",
    "num_cores <- 4\n",
    "\n",
    "## making this many copy of work\n",
    "cl <- makeForkCluster(num_cores)\n",
    "\n",
    "## register this many number of cores\n",
    "registerDoParallel(cores=(num_cores))"
   ]
  },
  {
   "cell_type": "code",
   "execution_count": 19,
   "metadata": {},
   "outputs": [],
   "source": [
    "## Import the number of cores\n",
    "clusterExport(cl, c())"
   ]
  },
  {
   "cell_type": "code",
   "execution_count": 20,
   "metadata": {},
   "outputs": [
    {
     "data": {
      "text/plain": [
       "[1] \"2019-12-19 06:09:51 CST\""
      ]
     },
     "metadata": {},
     "output_type": "display_data"
    },
    {
     "name": "stdout",
     "output_type": "stream",
     "text": [
      "[1] \"starting parallel\"\n"
     ]
    },
    {
     "name": "stderr",
     "output_type": "stream",
     "text": [
      "Warning message:\n",
      "\"executing %dopar% sequentially: no parallel backend registered\""
     ]
    },
    {
     "name": "stdout",
     "output_type": "stream",
     "text": [
      "[1] \"Eugene_Oregon beginning\"\n"
     ]
    },
    {
     "name": "stderr",
     "output_type": "stream",
     "text": [
      "Warning message in gzfile(file, mode):\n",
      "\"cannot open compressed file 'C:\\Users\\luoyec2\\Documents/outputs/Lab4/Eugene_Oregon.rds', probable reason 'No such file or directory'\""
     ]
    },
    {
     "name": "stdout",
     "output_type": "stream",
     "text": [
      "[1] \"Palm Desert_California beginning\"\n"
     ]
    },
    {
     "name": "stderr",
     "output_type": "stream",
     "text": [
      "Warning message in gzfile(file, mode):\n",
      "\"cannot open compressed file 'C:\\Users\\luoyec2\\Documents/outputs/Lab4/Palm Desert_California.rds', probable reason 'No such file or directory'\""
     ]
    },
    {
     "name": "stdout",
     "output_type": "stream",
     "text": [
      "[1] \"Verona_Wisconsin beginning\"\n"
     ]
    },
    {
     "name": "stderr",
     "output_type": "stream",
     "text": [
      "Warning message in gzfile(file, mode):\n",
      "\"cannot open compressed file 'C:\\Users\\luoyec2\\Documents/outputs/Lab4/Verona_Wisconsin.rds', probable reason 'No such file or directory'\""
     ]
    },
    {
     "name": "stdout",
     "output_type": "stream",
     "text": [
      "[1] \"Chicago_Illinois beginning\"\n"
     ]
    },
    {
     "name": "stderr",
     "output_type": "stream",
     "text": [
      "Warning message in gzfile(file, mode):\n",
      "\"cannot open compressed file 'C:\\Users\\luoyec2\\Documents/outputs/Lab4/Chicago_Illinois.rds', probable reason 'No such file or directory'\""
     ]
    },
    {
     "name": "stdout",
     "output_type": "stream",
     "text": [
      "[1] \"Southbridge_Massachusetts beginning\"\n"
     ]
    },
    {
     "name": "stderr",
     "output_type": "stream",
     "text": [
      "Warning message in gzfile(file, mode):\n",
      "\"cannot open compressed file 'C:\\Users\\luoyec2\\Documents/outputs/Lab4/Southbridge_Massachusetts.rds', probable reason 'No such file or directory'\""
     ]
    },
    {
     "ename": "ERROR",
     "evalue": "Error in {: task 1 failed - \"cannot open the connection\"\n",
     "output_type": "error",
     "traceback": [
      "Error in {: task 1 failed - \"cannot open the connection\"\nTraceback:\n",
      "1. foreach(i = 1:length(Markets1), .combine = \"c\") %dopar% {\n .     findModel(Markets1[i], US_P, US_D)\n . }",
      "2. e$fun(obj, substitute(ex), parent.frame(), e$data)"
     ]
    }
   ],
   "source": [
    "## Display the starting time\n",
    "Sys.time()\n",
    "print(\"starting parallel\")\n",
    "\n",
    "## Run the foreach parallelization\n",
    "## NOTE: In the real run, we will be using the entire Markets object instead of only 5 markets in the Markets1 variable.\n",
    "foreach(i=1:length(Markets1), .combine='c') %dopar% {\n",
    "  findModel(Markets1[i], US_P, US_D)\n",
    "}\n",
    "\n",
    "## End the parallelization\n",
    "stopCluster(cl)\n",
    "\n",
    "## Show the ending time\n",
    "Sys.time()\n",
    "print(\"ended parallel\")"
   ]
  },
  {
   "cell_type": "markdown",
   "metadata": {
    "collapsed": true
   },
   "source": [
    "## Step 4: Submit job on Supercomputer\n",
    "\n",
    "The following code is using a bash script instead of an R Script.\n",
    "This code is based on using the Roger Supercomputer."
   ]
  },
  {
   "cell_type": "raw",
   "metadata": {
    "collapsed": true
   },
   "source": [
    "### Set the job name\n",
    "#PBS -N Snow Project Trial 2\n",
    "\n",
    "### Use the bourne shell\n",
    "#PBS -S /bin/bash\n",
    "\n",
    "### To send email when the job is completed:\n",
    "### be --- before execution\n",
    "### ae --- after execution\n",
    "#PBS -m ae\n",
    "#PBS -M zhang303@illinois.edu\n",
    "\n",
    "### Optionally set the destination for your program's output\n",
    "### Specify localhost and an NFS filesystem to prevent file copy errors.\n",
    "#PBS -e localhost:/projects/hackonomics/snowproject/job_parallel.err\n",
    "#PBS -o localhost:/projects/hackonomics/snowproject/job_parallel.log\n",
    "\n",
    "### Specify the number of CPU cores for your job\n",
    "#PBS -l nodes=1:ppn=20\n",
    "\n",
    "### Tell PBS how much memory you expect to use. Use units of 'b','kb', 'mb' or 'gb'.\n",
    "#PBS -l mem=200gb\n",
    "\n",
    "### Tell PBS the anticipated run-time for your job, where walltime=HH:MM:SS\n",
    "### Your job will be terminated if it exceeds this time\n",
    "#PBS -l walltime=48:00:00\n",
    "\n",
    "### loading the module of R and gdal\n",
    "module load R\n",
    "\n",
    "Rscript /projects/hackonomics/snowproject/MarketRevenue_parallel.R"
   ]
  },
  {
   "cell_type": "markdown",
   "metadata": {},
   "source": [
    "### Question 1\n",
    "We have used the \"foreach\" library to perform parallelization in this excerise, are there any other libraries that can do the same thing? List at least 3 other different parallelization libraries."
   ]
  },
  {
   "cell_type": "markdown",
   "metadata": {},
   "source": [
    "### Answer: other library to do parallelization job in R:\n",
    "- doParallel\n",
    "- parallel\n",
    "- mclapply"
   ]
  },
  {
   "cell_type": "markdown",
   "metadata": {},
   "source": [
    "### Question 2\n",
    "Pick one of the parallelization libraries and give it a try in this excerise by only using 4 cores."
   ]
  },
  {
   "cell_type": "code",
   "execution_count": null,
   "metadata": {},
   "outputs": [],
   "source": [
    "## Set the number of cores to 4 for testing purposes, on a real run, you will need to use (np-1) number of cores.\n",
    "num_cores <- 4 \n",
    "\n",
    "## TODO: You can use your googled example here or just use this excerise, but make sure you only use 4 cores at most!\n",
    "## You can learn how to write these from secion 3.2 in this excerise, the process should be very similar."
   ]
  }
 ],
 "metadata": {
  "kernelspec": {
   "display_name": "R",
   "language": "R",
   "name": "ir"
  },
  "language_info": {
   "codemirror_mode": "r",
   "file_extension": ".r",
   "mimetype": "text/x-r-source",
   "name": "R",
   "pygments_lexer": "r",
   "version": "3.6.1"
  }
 },
 "nbformat": 4,
 "nbformat_minor": 2
}
